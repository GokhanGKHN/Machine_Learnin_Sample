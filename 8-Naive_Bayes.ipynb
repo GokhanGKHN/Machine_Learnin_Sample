{
 "cells": [
  {
   "cell_type": "markdown",
   "metadata": {},
   "source": [
    " Bu çalışmada kullanılan veri seti (bank-full.csv), `UCI Makine Öğrenmesi veri deposu`ndan temin edilmiştir <br>\n",
    " Veri seti, Portekizli bir bankacılık kurumunun doğrudan pazarlama kampanyaları ile ilgilidir <br>\n",
    " Pazarlama kampanyaları `telefon görüşmelerine` dayanmaktadır. <br>\n",
    " Ürüne `(banka vadeli mevduatı)` abone olunup olunmayacağına `(“evet” veya “hayır”)` erişmek için genellikle aynı müşteriyle birden fazla temas kurulması gerekmiştir. <br>\n",
    "\n",
    " `Bu çalışmanın temel amacı;`müşterilerin banka vadeli mevduatına abone olup olmayacağını öngörmektir <br>\n",
    "  - Veri setinde toplamda `45211 adet gözlem`, `17 adet nitelik` bulunmaktadır.\n",
    "  - Bunlardan sonuncusu, müşterini banka vadeli mevduatına `abone olup olmayacağını` gösteren hedef niteliktir `(y)`. `“evet” ve “hayır” `şeklinde iki adet kategorisi bulunmaktadır. Dolayısıyla `ikili sınıflandırma` durumu söz konusudur.\n",
    "  "
   ]
  },
  {
   "cell_type": "markdown",
   "metadata": {},
   "source": []
  },
  {
   "cell_type": "markdown",
   "metadata": {},
   "source": [
    "|Nitelik|Türkçesi|Veri Tipi|\n",
    "|-|-|-|\n",
    "|age (years)|Yaş|Nümerik|\n",
    "|job|Meslek|Kategorik|\n",
    "|marital|Medeni durum|Kategorik|\n",
    "|education|Eğitim seviyesi|Kategorik|\n",
    "|default|Temerrüde düşmüş kredisi var mı?|Kategorik|\n",
    "|balance|Yıllık ortalama bakiye (Avro)|Nümerik|\n",
    "|housing|Konut kredisi var mı?|Kategorik|\n",
    "|loan|Bireysel kredisi var mı?|Kategorik|\n",
    "|contact|Müşteri ile iletişim türü|Kategorik|\n",
    "|day|Ayın müşteri ile son temas günü|Nümerik|\n",
    "|month|Yılın müşteri ile son temas ayı|Kategorik|\n",
    "|duration|Müşteri ile iletişim son temas süresi (sn.)|Nümerik|\n",
    "|campaign|Bu kampanya sırasında müşteri için gerçekleştirilen temas sayısı|Nümerik|\n",
    "|pdays|Müşteriyle önceki bir kampanyadan en son iletişime geçildikten sonra geçen gün sayısı|Nümerik|\n",
    "|previous|Bu kampanyadan önce ve bu müşteri için gerçekleştirilen temas sayısı|Nümerik|\n",
    "|poutcome|Önceki pazarlama kampanyasının sonucu|Kategorik|\n",
    "|y|Müşteri vadeli bir mevduata abone oldu mu?|Kategorik|\n"
   ]
  },
  {
   "cell_type": "markdown",
   "metadata": {},
   "source": []
  },
  {
   "cell_type": "code",
   "execution_count": 74,
   "metadata": {},
   "outputs": [],
   "source": [
    "# Çalışma için Gerekli Kütüphanelerin Yüklenmesi\n",
    "# Bu çalışmada NumPy, Pandas, Scikit-learn ve mixed_naive_bayes kütüphaneleri kullanılmıştır\n",
    "#  Scikit-learn kütüphanesi yalnızca nümerik veri için (GaussianNB) ve yalnızca kategorik veri için (CategoricalNB) fonksiyon seçenekleri sunmaktadır:ancak bu çalışmadaki veri setinde olduğu gibi aynı anda hem kategorik hem de nümerik nitelikler bir arada bulunabilir.\n",
    "#  mixed_naive_bayes söz edilen bu iki farklı tür grubun entegrasyonunu, veriye bir arada uygulanabilmesini sağlar.\n",
    "# Eğer bu kütüphaneler yüklü değilse pip ile terminalden kurulmalıdır.\n",
    "# Kurulma işlemi yapılmışsa öncelikle aşağıdaki kod satırları Python koduna dahil edilmelidir.\n",
    "\n",
    "import numpy as np\n",
    "import pandas as pd\n",
    "from sklearn.preprocessing import LabelEncoder\n",
    "from sklearn.model_selection import train_test_split\n",
    "from mixed_naive_bayes import MixedNB\n",
    "from sklearn.metrics import confusion_matrix,ConfusionMatrixDisplay,classification_report"
   ]
  },
  {
   "cell_type": "code",
   "execution_count": 75,
   "metadata": {},
   "outputs": [
    {
     "data": {
      "text/html": [
       "<div>\n",
       "<style scoped>\n",
       "    .dataframe tbody tr th:only-of-type {\n",
       "        vertical-align: middle;\n",
       "    }\n",
       "\n",
       "    .dataframe tbody tr th {\n",
       "        vertical-align: top;\n",
       "    }\n",
       "\n",
       "    .dataframe thead th {\n",
       "        text-align: right;\n",
       "    }\n",
       "</style>\n",
       "<table border=\"1\" class=\"dataframe\">\n",
       "  <thead>\n",
       "    <tr style=\"text-align: right;\">\n",
       "      <th></th>\n",
       "      <th>age</th>\n",
       "      <th>job</th>\n",
       "      <th>marital</th>\n",
       "      <th>education</th>\n",
       "      <th>default</th>\n",
       "      <th>balance</th>\n",
       "      <th>housing</th>\n",
       "      <th>loan</th>\n",
       "      <th>contact</th>\n",
       "      <th>day</th>\n",
       "      <th>month</th>\n",
       "      <th>duration</th>\n",
       "      <th>campaign</th>\n",
       "      <th>pdays</th>\n",
       "      <th>previous</th>\n",
       "      <th>poutcome</th>\n",
       "      <th>y</th>\n",
       "    </tr>\n",
       "  </thead>\n",
       "  <tbody>\n",
       "    <tr>\n",
       "      <th>0</th>\n",
       "      <td>58</td>\n",
       "      <td>management</td>\n",
       "      <td>married</td>\n",
       "      <td>tertiary</td>\n",
       "      <td>no</td>\n",
       "      <td>2143</td>\n",
       "      <td>yes</td>\n",
       "      <td>no</td>\n",
       "      <td>unknown</td>\n",
       "      <td>5</td>\n",
       "      <td>may</td>\n",
       "      <td>261</td>\n",
       "      <td>1</td>\n",
       "      <td>-1</td>\n",
       "      <td>0</td>\n",
       "      <td>unknown</td>\n",
       "      <td>no</td>\n",
       "    </tr>\n",
       "    <tr>\n",
       "      <th>1</th>\n",
       "      <td>44</td>\n",
       "      <td>technician</td>\n",
       "      <td>single</td>\n",
       "      <td>secondary</td>\n",
       "      <td>no</td>\n",
       "      <td>29</td>\n",
       "      <td>yes</td>\n",
       "      <td>no</td>\n",
       "      <td>unknown</td>\n",
       "      <td>5</td>\n",
       "      <td>may</td>\n",
       "      <td>151</td>\n",
       "      <td>1</td>\n",
       "      <td>-1</td>\n",
       "      <td>0</td>\n",
       "      <td>unknown</td>\n",
       "      <td>no</td>\n",
       "    </tr>\n",
       "    <tr>\n",
       "      <th>2</th>\n",
       "      <td>33</td>\n",
       "      <td>entrepreneur</td>\n",
       "      <td>married</td>\n",
       "      <td>secondary</td>\n",
       "      <td>no</td>\n",
       "      <td>2</td>\n",
       "      <td>yes</td>\n",
       "      <td>yes</td>\n",
       "      <td>unknown</td>\n",
       "      <td>5</td>\n",
       "      <td>may</td>\n",
       "      <td>76</td>\n",
       "      <td>1</td>\n",
       "      <td>-1</td>\n",
       "      <td>0</td>\n",
       "      <td>unknown</td>\n",
       "      <td>no</td>\n",
       "    </tr>\n",
       "  </tbody>\n",
       "</table>\n",
       "</div>"
      ],
      "text/plain": [
       "   age           job  marital  education default  balance housing loan  \\\n",
       "0   58    management  married   tertiary      no     2143     yes   no   \n",
       "1   44    technician   single  secondary      no       29     yes   no   \n",
       "2   33  entrepreneur  married  secondary      no        2     yes  yes   \n",
       "\n",
       "   contact  day month  duration  campaign  pdays  previous poutcome   y  \n",
       "0  unknown    5   may       261         1     -1         0  unknown  no  \n",
       "1  unknown    5   may       151         1     -1         0  unknown  no  \n",
       "2  unknown    5   may        76         1     -1         0  unknown  no  "
      ]
     },
     "execution_count": 75,
     "metadata": {},
     "output_type": "execute_result"
    }
   ],
   "source": [
    "# Veri Okuma\n",
    "veriSeti= pd.read_csv(\"bank-full.csv\")\n",
    "veriSeti.head(3)"
   ]
  },
  {
   "cell_type": "code",
   "execution_count": 76,
   "metadata": {},
   "outputs": [
    {
     "data": {
      "text/plain": [
       "age           int64\n",
       "job          object\n",
       "marital      object\n",
       "education    object\n",
       "default      object\n",
       "balance       int64\n",
       "housing      object\n",
       "loan         object\n",
       "contact      object\n",
       "day           int64\n",
       "month        object\n",
       "duration      int64\n",
       "campaign      int64\n",
       "pdays         int64\n",
       "previous      int64\n",
       "poutcome     object\n",
       "y            object\n",
       "dtype: object"
      ]
     },
     "execution_count": 76,
     "metadata": {},
     "output_type": "execute_result"
    }
   ],
   "source": [
    "# Veri Ön-işleme\n",
    "# Veri seti okunduktan sonra hangi niteliklerin kategorik, hangilerinin nümerik (sürekli/ayrık) olduğu kontrol edilmiştir.\n",
    "veriSeti.dtypes\n",
    "# age;\"job\";\"marital\";\"education\";\"default\";\"balance\";\"housing\";\"loan\";\"contact\";\"day\";\"month\";\"duration\";\"campaign\";\"pdays\";\"previous\";\"poutcome\";\"y\"    object\n",
    "\n",
    "\n"
   ]
  },
  {
   "cell_type": "code",
   "execution_count": 77,
   "metadata": {},
   "outputs": [],
   "source": [
    "# mixedNB() fonksiyonunu kullanabilmek için kategorik nitelikler LabelEnceder() yardımı ile ayrık sayısal hale dönüştürülmüştür.\n",
    "# Döngünün her bir adımında kategorik niteliklerin indeks numaraları kategorikNitelikler listesine atanmıştır.Döngü bittikten sonra hedef nitelik bu listeden çıkarılmıştır.\n",
    "# kategorikNitelikler listesi mixedNB() fonksiyonunun bir argümanı olarak kullanılacaktır.\n",
    "label_encoder=LabelEncoder() # Bu satır, LabelEncoder sınıfının bir örneğini oluşturur. LabelEncoder, kategorik (string) verileri sayısal değerlere dönüştürmek için kullanılan bir sınıftır.\n",
    "kategorikNitelikler=[] # Boş bir liste oluşturulur. Bu liste, veri setinde kategorik (nesne tipi) niteliklerin indekslerini saklamak için kullanılacaktır.\n",
    "for nitelik in veriSeti.columns: # Bu döngü, veri setindeki her bir sütunu (nitelik) tek tek dolaşır.\n",
    "    if veriSeti[nitelik].dtype==\"object\": # Bu koşul, mevcut sütunun veri tipini kontrol eder. Eğer veri tipi \"object\" (yani string veya kategorik veri) ise, içindeki işlemler yapılır.\n",
    "\n",
    "        kategorikNitelikler.append(veriSeti.columns.get_loc(nitelik)) # Kategorik niteliğin indeksini kategorikNitelikler listesine ekler. get_loc(nitelik) fonksiyonu, sütunun veri setindeki konumunu (indeksini) döner.\n",
    "        veriSeti.loc[:,nitelik] =label_encoder.fit_transform(veriSeti.loc[:,nitelik]) # Bu satır, sütundaki kategorik verileri sayısal değerlere dönüştürür. fit_transform fonksiyonu, kategorik verileri öğrenir (fit) ve dönüştürür (transform).\n",
    "        veriSeti[nitelik]=veriSeti[nitelik].astype(\"int64\") # Dönüştürülmüş sütunun veri tipini int64 olarak ayarlar. Bu, tüm değerlerin tamsayı olmasını sağlar.\n",
    "        kategorikNitelikler.pop(len(kategorikNitelikler)-1)\n",
    "\n",
    "\n",
    "\n"
   ]
  },
  {
   "cell_type": "code",
   "execution_count": 78,
   "metadata": {},
   "outputs": [
    {
     "name": "stdout",
     "output_type": "stream",
     "text": [
      "(45211, 17)\n"
     ]
    },
    {
     "data": {
      "text/plain": [
       "[]"
      ]
     },
     "execution_count": 78,
     "metadata": {},
     "output_type": "execute_result"
    }
   ],
   "source": [
    "\n",
    "print(veriSeti.shape)\n",
    "kategorikNitelikler\n",
    "\n"
   ]
  },
  {
   "cell_type": "code",
   "execution_count": 79,
   "metadata": {},
   "outputs": [],
   "source": [
    "# Scikit-learn kütüphanesinin model_selection modülünden train_test_split() fonksiyonu kullanılarak eğitim ve test veri setleri oluşturulmuştur\n",
    "# Verinin %70’i eğitim (egitim), %30’u ise test veri setinde olacak şekilde (frac = 0.7) ikiye ayırma yöntemi ile rastgele ayrılmıştır.\n",
    "\n",
    "X_train,X_test,y_train,y_test=train_test_split(veriSeti.iloc[ :,0:16],veriSeti.iloc[:,16], test_size=0.3,random_state=1)"
   ]
  },
  {
   "cell_type": "code",
   "execution_count": 80,
   "metadata": {},
   "outputs": [
    {
     "data": {
      "text/plain": [
       "MixedNB(alpha=0.5, var_smoothing=1e-09)"
      ]
     },
     "execution_count": 80,
     "metadata": {},
     "output_type": "execute_result"
    }
   ],
   "source": [
    "# Modelleme\n",
    "# Naive Bayes sınıflandırıcı modelinin (nb_model) oluşturulabilmesi için MixedNB() kullanılmıştır.\n",
    "# Bunun için veri setindeki kategorik niteliklerin indeksini içeren kategorikNitelikler listesi verilmiştir (categorical_features).\n",
    "#  Ardından nb_model modelinin fit() fonksiyonuna eğitim veri seti ve eğitim veri setinin hedef niteliği verilmiştir\n",
    "# \n",
    "\n",
    "nb_model= MixedNB(categorical_features=kategorikNitelikler)\n",
    "nb_model.fit(X_train,y_train)\n"
   ]
  },
  {
   "cell_type": "code",
   "execution_count": 81,
   "metadata": {},
   "outputs": [
    {
     "name": "stderr",
     "output_type": "stream",
     "text": [
      "c:\\Users\\gokha\\AppData\\Local\\Programs\\Python\\Python312\\Lib\\site-packages\\mixed_naive_bayes\\mixed_naive_bayes.py:275: RuntimeWarning: invalid value encountered in divide\n",
      "  normalised = finals/finals.sum(axis=1, keepdims=True)\n"
     ]
    }
   ],
   "source": [
    "# Performans Değerlendirme\n",
    "# aive Bayes sınıflandırıcı modelinin performansının değerlendirilebilmesi için nb_model.predict() fonksiyonundan faydalanılmıştır.\n",
    "# Modelin tahminleri ve test veri setinin hedef niteliği görüntülenirse LabelEncoder() ile sayısal hale dönüştürüldüğü biçimiyle yer almakta oldukları görülebilir.\n",
    "# İlgili  değerleri kategorik hale (orijinal haline) döndürmek için label_encoder.inverse_transform() kullanılmıştır.\n",
    "# Bu adım elde edilecek olan kontenjans tablosunun daha iyi yorumlanabilmesini sağlamak amacıyla yapılmıştır.\n",
    "y_tahmin=nb_model.predict(X_test)\n",
    "y_tahmin=label_encoder.inverse_transform(y_tahmin)\n",
    "y_test=label_encoder.inverse_transform(y_test)\n"
   ]
  },
  {
   "cell_type": "code",
   "execution_count": 82,
   "metadata": {},
   "outputs": [
    {
     "data": {
      "text/plain": [
       "<sklearn.metrics._plot.confusion_matrix.ConfusionMatrixDisplay at 0x1f9e775d010>"
      ]
     },
     "execution_count": 82,
     "metadata": {},
     "output_type": "execute_result"
    },
    {
     "data": {
      "image/png": "[encoded data removed]",
      "text/plain": [
       "<Figure size 640x480 with 2 Axes>"
      ]
     },
     "metadata": {},
     "output_type": "display_data"
    }
   ],
   "source": [
    "# Kontenjans tablosu sklearn.metrics içindeki confusion_matrix() ile elde edilmiştir\n",
    "# “yes”, yani evet sınıfı pozitif sınıf olarak kabul edilmiştir.\n",
    "# Ardından, kontenjans tablosunun görsel açıdan daha iyi biçimde oluşturulabilmesi için ConfusionMatrixDisplay() fonksiyonu kullanılmıştır.\n",
    "my_cm=confusion_matrix(y_true=y_test,y_pred=y_tahmin,labels=[\"no\",\"yes\"])\n",
    "my_cm_p=ConfusionMatrixDisplay(my_cm,display_labels=[\"no\",\"yes\"])\n",
    "my_cm_p.plot()"
   ]
  },
  {
   "cell_type": "code",
   "execution_count": 85,
   "metadata": {},
   "outputs": [
    {
     "name": "stdout",
     "output_type": "stream",
     "text": [
      "True Negatives 10708\n",
      "False Positive 1305\n",
      "False Negatives 850\n",
      "True Positive 701\n"
     ]
    }
   ],
   "source": [
    "# Kontenjans tablosundaki tn, tp, fn, fp değerlerinin sırasıyla aynı isimlerde tanımlanan değişkenlere atanabilmesi için my_cm.ravel() kullanılmıştır.\n",
    "tn,fp,fn,tp=my_cm.ravel()\n",
    "print(\"True Negatives\",tn)\n",
    "print(\"False Positive\",fp)\n",
    "print(\"False Negatives\",fn)\n",
    "print(\"True Positive\",tp)\n"
   ]
  },
  {
   "cell_type": "code",
   "execution_count": 88,
   "metadata": {},
   "outputs": [
    {
     "name": "stdout",
     "output_type": "stream",
     "text": [
      "              precision    recall  f1-score   support\n",
      "\n",
      "          no       0.93      0.89      0.91     12013\n",
      "         yes       0.35      0.45      0.39      1551\n",
      "\n",
      "    accuracy                           0.84     13564\n",
      "   macro avg       0.64      0.67      0.65     13564\n",
      "weighted avg       0.86      0.84      0.85     13564\n",
      "\n"
     ]
    }
   ],
   "source": [
    "#  Bu bölümde classification_report() ile en temel performans değerlendirme ölçütleri elde edilmiştir.\n",
    "my_report=classification_report(y_true=y_test,y_pred=y_tahmin,labels=[\"no\",\"yes\"])\n",
    "print(my_report)"
   ]
  },
  {
   "cell_type": "code",
   "execution_count": 89,
   "metadata": {},
   "outputs": [],
   "source": [
    "# Yukarıda elde edilen performans metrikleri raporundan Naive Bayes Sınıflandırıcının doğruluğu %84 elde edilmiştir\n",
    "#  Raporun ilk iki satırında hem no hem de yes sınıfının pozitif sınıf alınmasıyla elde edilen metrikler bulunmaktadır\n",
    "# Duyarlılık, belirleyicilik, kesinlik, F-Ölçüsü gibi ölçütlerin değeri ve yorumunun pozitif sınıf değiştiğinde değişmekte olduğundan hangi sınıfın pozitif sınıf seçildiği ve yorumlandığı oldukça önemlidir.\n"
   ]
  },
  {
   "cell_type": "markdown",
   "metadata": {},
   "source": [
    "`yes sınıfının pozitif sınıf seçilmiş olması durumunda;` gerçekte banka vadeli mevduatına abone olan müşteriler arasında, modelin doğru şekilde öngördüğü ve gerçekte de banka vadeli mevduatına abone olan müşterilerin oranı %45’tür (duyarlılık/recall). <br>\n",
    "`no sınıfının pozitif sınıf seçilmiş olması durumunda;` gerçekte banka vadeli mevduatına abone olmayan müşteriler arasında, modelin doğru şekilde öngördüğü ve gerçekte de banka vadeli mevduatına abone olmayan müşterilerin oranı ise %89’tür (duyarlılık/recall)."
   ]
  },
  {
   "cell_type": "markdown",
   "metadata": {},
   "source": []
  }
 ],
 "metadata": {
  "kernelspec": {
   "display_name": "Python 3",
   "language": "python",
   "name": "python3"
  },
  "language_info": {
   "codemirror_mode": {
    "name": "ipython",
    "version": 3
   },
   "file_extension": ".py",
   "mimetype": "text/x-python",
   "name": "python",
   "nbconvert_exporter": "python",
   "pygments_lexer": "ipython3",
   "version": "3.12.3"
  }
 },
 "nbformat": 4,
 "nbformat_minor": 2
}
