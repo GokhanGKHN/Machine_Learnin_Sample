{
 "cells": [
  {
   "cell_type": "markdown",
   "metadata": {},
   "source": [
    "Bu çalışmada kullanılan veri seti (income.data.csv), 500 kişiden oluşan hayali bir örnekleme aittir <br>\n",
    "### Veri setinde üç nitelik yer almaktadır <br>\n",
    "- Bunlardan ilki örneklerin numarasını temsil eden `ID` alanı (Unnamed: 0) \n",
    "- ikincisi 15 bin ile 75 bin dolar aralığında değişen `gelir` <br>\n",
    "- sonuncusu ise 1 ile 10 arasında derecelendirilen mutluluk puanıdır `(mutluluk)`<br> <br>\n",
    "* Gelir değerlerine bir çeşit normalizasyon uygulanmış, 10.000’e bölünerek  `gelir` verisinin `mutluluk` puanı ölçeğiyle eşleşmesi sağlanmıştır. Veri setinde 2$’lık bir değer 20.000$’ı, 3$’lık bir değer 30.000$’ı temsil etmektedir.<br>\n",
    "* Bu çalışmanın amacı, gelir ile basit doğrusal regresyon modeli (istatistiksel olarak anlamlı doğrusal ilişki) kurarak mutluluk puanını tahmin etmektir.<br>\n",
    " `Gelir` niteliği bağımsız değişken/tahmini sağlayan nitelik olup, `mutluluk` ise bağımlı değişken yani `hedef niteliktir` .<br>\n",
    " Basit doğrusal regresyon modeli ile gelire göre mutluluk puanının değişimini ortaya koyan bir denklem elde edilecektir.\n",
    "\n",
    "| Nitelik | Türkçe | Veri Tipi |\n",
    "|---------|--------|------------|\n",
    "| Unnamed: 0  | Örneklerin numarası| Ayrık |\n",
    "|  income | Gelir| Sürekli |\n",
    "| **happiness**| **Mutluluk**  | **Sürekli** | \n"
   ]
  },
  {
   "cell_type": "code",
   "execution_count": 2,
   "metadata": {},
   "outputs": [],
   "source": [
    "# Bu çalışmada NumPy, Pandas, Seaborn, Matplotlib ve Scikit-learn kütüphaneleri kullanılmıştır\n",
    "# Regresyon modelinin elde edilebilmesi içinse ***statsmodels*** kütüphanesi yüklenmiştir\n",
    "# Kütüphaneler yüklü değilse pip ile kurumlarını sağlayabilirsiniz. \n",
    "import numpy as np\n",
    "import pandas as pd\n",
    "import seaborn as sns\n",
    "import matplotlib.pyplot as plt\n",
    "from scipy.stats import pearsonr\n",
    "from matplotlib.cbook import boxplot_stats\n",
    "import statsmodels.formula.api as smf\n",
    "from sklearn.metrics import mean_absolute_error,mean_absolute_error\n"
   ]
  },
  {
   "cell_type": "markdown",
   "metadata": {},
   "source": []
  },
  {
   "cell_type": "code",
   "execution_count": 3,
   "metadata": {},
   "outputs": [
    {
     "data": {
      "text/html": [
       "<div>\n",
       "<style scoped>\n",
       "    .dataframe tbody tr th:only-of-type {\n",
       "        vertical-align: middle;\n",
       "    }\n",
       "\n",
       "    .dataframe tbody tr th {\n",
       "        vertical-align: top;\n",
       "    }\n",
       "\n",
       "    .dataframe thead th {\n",
       "        text-align: right;\n",
       "    }\n",
       "</style>\n",
       "<table border=\"1\" class=\"dataframe\">\n",
       "  <thead>\n",
       "    <tr style=\"text-align: right;\">\n",
       "      <th></th>\n",
       "      <th>Unnamed: 0</th>\n",
       "      <th>income</th>\n",
       "      <th>happiness</th>\n",
       "    </tr>\n",
       "  </thead>\n",
       "  <tbody>\n",
       "    <tr>\n",
       "      <th>0</th>\n",
       "      <td>1</td>\n",
       "      <td>3.862647</td>\n",
       "      <td>2.314489</td>\n",
       "    </tr>\n",
       "    <tr>\n",
       "      <th>1</th>\n",
       "      <td>2</td>\n",
       "      <td>4.979381</td>\n",
       "      <td>3.433490</td>\n",
       "    </tr>\n",
       "    <tr>\n",
       "      <th>2</th>\n",
       "      <td>3</td>\n",
       "      <td>4.923957</td>\n",
       "      <td>4.599373</td>\n",
       "    </tr>\n",
       "    <tr>\n",
       "      <th>3</th>\n",
       "      <td>4</td>\n",
       "      <td>3.214372</td>\n",
       "      <td>2.791114</td>\n",
       "    </tr>\n",
       "    <tr>\n",
       "      <th>4</th>\n",
       "      <td>5</td>\n",
       "      <td>7.196409</td>\n",
       "      <td>5.596398</td>\n",
       "    </tr>\n",
       "    <tr>\n",
       "      <th>5</th>\n",
       "      <td>6</td>\n",
       "      <td>3.729643</td>\n",
       "      <td>2.458556</td>\n",
       "    </tr>\n",
       "  </tbody>\n",
       "</table>\n",
       "</div>"
      ],
      "text/plain": [
       "   Unnamed: 0    income  happiness\n",
       "0           1  3.862647   2.314489\n",
       "1           2  4.979381   3.433490\n",
       "2           3  4.923957   4.599373\n",
       "3           4  3.214372   2.791114\n",
       "4           5  7.196409   5.596398\n",
       "5           6  3.729643   2.458556"
      ]
     },
     "execution_count": 3,
     "metadata": {},
     "output_type": "execute_result"
    }
   ],
   "source": [
    "# Veri Okuma\n",
    "veriSeti=pd.read_csv(\"income.data.csv\")\n",
    "veriSeti.head(6)"
   ]
  },
  {
   "cell_type": "code",
   "execution_count": 4,
   "metadata": {},
   "outputs": [],
   "source": [
    "#Veri Ön-İşleme \n",
    "# Veri setindeki ilk sütun analizlerde kullanılmayacağı için veri setinden çıkarılmıştır.\n",
    "veriSeti=veriSeti.iloc[:,1:3]"
   ]
  },
  {
   "cell_type": "code",
   "execution_count": 5,
   "metadata": {},
   "outputs": [
    {
     "data": {
      "text/html": [
       "<div>\n",
       "<style scoped>\n",
       "    .dataframe tbody tr th:only-of-type {\n",
       "        vertical-align: middle;\n",
       "    }\n",
       "\n",
       "    .dataframe tbody tr th {\n",
       "        vertical-align: top;\n",
       "    }\n",
       "\n",
       "    .dataframe thead th {\n",
       "        text-align: right;\n",
       "    }\n",
       "</style>\n",
       "<table border=\"1\" class=\"dataframe\">\n",
       "  <thead>\n",
       "    <tr style=\"text-align: right;\">\n",
       "      <th></th>\n",
       "      <th>gelir</th>\n",
       "      <th>mutluluk</th>\n",
       "    </tr>\n",
       "  </thead>\n",
       "  <tbody>\n",
       "    <tr>\n",
       "      <th>count</th>\n",
       "      <td>498.000000</td>\n",
       "      <td>498.000000</td>\n",
       "    </tr>\n",
       "    <tr>\n",
       "      <th>mean</th>\n",
       "      <td>4.466902</td>\n",
       "      <td>3.392859</td>\n",
       "    </tr>\n",
       "    <tr>\n",
       "      <th>std</th>\n",
       "      <td>1.737527</td>\n",
       "      <td>1.432813</td>\n",
       "    </tr>\n",
       "    <tr>\n",
       "      <th>min</th>\n",
       "      <td>1.506275</td>\n",
       "      <td>0.266044</td>\n",
       "    </tr>\n",
       "    <tr>\n",
       "      <th>25%</th>\n",
       "      <td>3.006256</td>\n",
       "      <td>2.265864</td>\n",
       "    </tr>\n",
       "    <tr>\n",
       "      <th>50%</th>\n",
       "      <td>4.423710</td>\n",
       "      <td>3.472536</td>\n",
       "    </tr>\n",
       "    <tr>\n",
       "      <th>75%</th>\n",
       "      <td>5.991913</td>\n",
       "      <td>4.502621</td>\n",
       "    </tr>\n",
       "    <tr>\n",
       "      <th>max</th>\n",
       "      <td>7.481521</td>\n",
       "      <td>6.863388</td>\n",
       "    </tr>\n",
       "  </tbody>\n",
       "</table>\n",
       "</div>"
      ],
      "text/plain": [
       "            gelir    mutluluk\n",
       "count  498.000000  498.000000\n",
       "mean     4.466902    3.392859\n",
       "std      1.737527    1.432813\n",
       "min      1.506275    0.266044\n",
       "25%      3.006256    2.265864\n",
       "50%      4.423710    3.472536\n",
       "75%      5.991913    4.502621\n",
       "max      7.481521    6.863388"
      ]
     },
     "execution_count": 5,
     "metadata": {},
     "output_type": "execute_result"
    }
   ],
   "source": [
    "# Veri setindeki niteliklerin adları sırasıyla gelir ve mutluluk olacak şekilde değiştirilmiştir. Ardından veri setine ait özet bilgi görüntülenmiştir.\n",
    "veriSeti=veriSeti.rename(columns={\"income\":\"gelir\",\"happiness\":\"mutluluk\"})\n",
    "veriSeti.describe()\n",
    "\n"
   ]
  },
  {
   "cell_type": "code",
   "execution_count": 6,
   "metadata": {},
   "outputs": [
    {
     "data": {
      "text/plain": [
       "<Axes: xlabel='gelir', ylabel='mutluluk'>"
      ]
     },
     "execution_count": 6,
     "metadata": {},
     "output_type": "execute_result"
    },
    {
     "data": {
      "image/png": "[encoded data removed]",
      "text/plain": [
       "<Figure size 640x480 with 1 Axes>"
      ]
     },
     "metadata": {},
     "output_type": "display_data"
    }
   ],
   "source": [
    "# gelir ve mutluluk nitelikleri, serpilme diyagramı üzerinde incelenirse aralarında pozitif doğrusal bir ilişkinin varlığı görülecektir\n",
    "# Veri, köşegen boyunca dağılmıştır. Yani gelir arttıkça mutluluk puanı da artmakta, gelir azaldıkça ise mutluluk puanının da azalmakta olduğu söylenebilir.\n",
    "sns.scatterplot(x=\"gelir\",y=\"mutluluk\",data=veriSeti)"
   ]
  },
  {
   "cell_type": "code",
   "execution_count": 7,
   "metadata": {},
   "outputs": [
    {
     "name": "stderr",
     "output_type": "stream",
     "text": [
      "C:\\Users\\gokha\\AppData\\Local\\Temp\\ipykernel_8508\\809996300.py:2: FutureWarning: \n",
      "\n",
      "Passing `palette` without assigning `hue` is deprecated and will be removed in v0.14.0. Assign the `y` variable to `hue` and set `legend=False` for the same effect.\n",
      "\n",
      "  sns.boxplot(x=\"gelir\",data=veriSeti,palette=\"summer\")\n"
     ]
    },
    {
     "data": {
      "text/plain": [
       "[{'mean': 4.466902362724138,\n",
       "  'iqr': 2.98565727949608,\n",
       "  'cilo': 4.213659166644111,\n",
       "  'cihi': 4.63376134232919,\n",
       "  'whishi': 7.48152138059959,\n",
       "  'whislo': 1.50627504475415,\n",
       "  'fliers': array([], dtype=float64),\n",
       "  'q1': 3.0062558561330675,\n",
       "  'med': 4.42371025448665,\n",
       "  'q3': 5.991913135629147}]"
      ]
     },
     "execution_count": 7,
     "metadata": {},
     "output_type": "execute_result"
    },
    {
     "data": {
      "image/png": "[encoded data removed]",
      "text/plain": [
       "<Figure size 640x480 with 1 Axes>"
      ]
     },
     "metadata": {},
     "output_type": "display_data"
    }
   ],
   "source": [
    "# Hedef nitelik kutu grafiği yardımı ile incelenmiştir. Nitelikte herhangi bir aykırı değer tespit edilememiştir. Kutu grafiğinden sonra gelen ekran görüntüsünde fliers bölümünde boş bir dizi yer aldığı görülebilir.\n",
    "sns.boxplot(x=\"gelir\",data=veriSeti,palette=\"summer\")\n",
    "boxplot_stats(veriSeti.gelir)\n",
    "\n",
    "\n",
    "# Ortalama (mean): Veri setindeki tüm sayıların ortalamasıdır. Bu, veri setinin genel eğilimini temsil eder.\n",
    "\n",
    "# IQR (iqr): Veri setinin %25'lik ve %75'lik dilim noktaları arasındaki farktır. Bu, veri setinin yayılımını gösterir.\n",
    "\n",
    "# Cilo (cilo): Veri setinin %25'lik dilim noktasından 1.5 IQR uzaklıktaki değerdir.\n",
    "\n",
    "# Cihi (cihi): Veri setinin %75'lik dilim noktasından 1.5 IQR uzaklıktaki değerdir.\n",
    "\n",
    "# Whishi (whishi): Veri setinin en büyük değerinden 3 IQR uzaklıktaki değerdir.\n",
    "\n",
    "# Whislo (whislo): Veri setinin en küçük değerinden 3 IQR uzaklıktaki değerdir.\n",
    "\n",
    "# Flier'lar (fliers): Whislo veya whishi değerlerinin dışına düşen veri noktalarıdır. Bu noktalar, veri setindeki anormal değerleri veya hataları gösterebilir.\n",
    "\n",
    "# Q1 (q1): Veri setinin %25'lik dilim noktasıdır.\n",
    "\n",
    "# Medyan (med): Veri setinin sıralandığında tam ortasında yer alan değerdir.\n",
    "\n",
    "# Q3 (q3): Veri setinin %75'lik dilim noktasıdır."
   ]
  },
  {
   "cell_type": "code",
   "execution_count": 8,
   "metadata": {},
   "outputs": [
    {
     "name": "stdout",
     "output_type": "stream",
     "text": [
      "gelir       0\n",
      "mutluluk    0\n",
      "dtype: int64\n"
     ]
    }
   ],
   "source": [
    "# Veri setinde eksik değer kontrolü yapılmış; ancak herhangi bir eksik değere rastlanmamıştır.\n",
    "\n",
    "print(veriSeti.isnull().sum())"
   ]
  },
  {
   "cell_type": "code",
   "execution_count": 9,
   "metadata": {},
   "outputs": [
    {
     "data": {
      "text/plain": [
       "PearsonRResult(statistic=0.8656337299838435, pvalue=3.956245289952218e-151)"
      ]
     },
     "execution_count": 9,
     "metadata": {},
     "output_type": "execute_result"
    }
   ],
   "source": [
    "# arasındaki korelasyon incelenmiştir\n",
    "# Burada tek bir bağımsız değişken olduğundan, yalnızca bağımlı ve bağımsız değişken arasındaki korelasyon verilebilmiştir.\n",
    "# Oysa korelasyon incelemesi, birden fazla bağımsız değişkenin olması durumunda birbiriyle ilişkisi yüksek olan niteliklerin tespit edilmesi ve buna göre bu niteliklerden birinin analizler öncesi veri setinden çıkarılması açısından önemlidir.\n",
    "# Bunun için scipy kütüphanesinin stats modülünden pearsonr() fonksiyonu kullanılmıştır\n",
    "# Pearson korelasyon katsayısı (statistic) ile iki nitelik arasındaki ilişkinin anlam düzeyini içeren   -değerini (pvalue)  hesaplamasıdır. \n",
    "# İki nitelik arasındaki ilişkinin anlamlı olabilmesi için   p-değerinin genellikle 0.05’ten küçük olması beklenir.\n",
    "# Elde edilen sonuca göre gelir ve mutluluk arasındaki Pearson korelasyon katsayısı 0.87’dir.\n",
    "# Hesaplanan   p-değeri bilimsel gösterim (scientific notation) biçiminde verilmiştir. Yani; 3.956245289952218e-151 değeri şeklinde ifade edilmektedir.\n",
    "# Buna göre elde edilen p-değeri sıfıra oldukça yakın bir değerdir.\n",
    "# Dolayısıyla gelir ile mutluluk puanı arasında pozitif yönde güçlü, anlamlı bir ilişkinin varlığından söz edilebilir\n",
    "\n",
    "pearsonr(veriSeti.gelir,veriSeti.mutluluk)"
   ]
  },
  {
   "cell_type": "code",
   "execution_count": 10,
   "metadata": {},
   "outputs": [],
   "source": [
    "# Son olarak eğitim ve test veri setleri oluşturulmuştur.  Verinin %70’i eğitim (egitim), %30’u ise test veri setinde olacak şekilde (frac = 0.7) rastgele ikiye ayrılmıştır.\n",
    "egitim=veriSeti.sample(frac=0.7,replace=False,random_state=1)\n",
    "ind=veriSeti.index.isin(egitim.index) # Boolean\n",
    "test=veriSeti[~ind] \n",
    "\n",
    "\n",
    "\n"
   ]
  },
  {
   "cell_type": "code",
   "execution_count": 11,
   "metadata": {},
   "outputs": [
    {
     "data": {
      "text/html": [
       "<table class=\"simpletable\">\n",
       "<caption>OLS Regression Results</caption>\n",
       "<tr>\n",
       "  <th>Dep. Variable:</th>        <td>mutluluk</td>     <th>  R-squared:         </th> <td>   0.749</td> \n",
       "</tr>\n",
       "<tr>\n",
       "  <th>Model:</th>                   <td>OLS</td>       <th>  Adj. R-squared:    </th> <td>   0.748</td> \n",
       "</tr>\n",
       "<tr>\n",
       "  <th>Method:</th>             <td>Least Squares</td>  <th>  F-statistic:       </th> <td>   1034.</td> \n",
       "</tr>\n",
       "<tr>\n",
       "  <th>Date:</th>             <td>Sat, 08 Jun 2024</td> <th>  Prob (F-statistic):</th> <td>4.00e-106</td>\n",
       "</tr>\n",
       "<tr>\n",
       "  <th>Time:</th>                 <td>15:35:58</td>     <th>  Log-Likelihood:    </th> <td> -378.71</td> \n",
       "</tr>\n",
       "<tr>\n",
       "  <th>No. Observations:</th>      <td>   349</td>      <th>  AIC:               </th> <td>   761.4</td> \n",
       "</tr>\n",
       "<tr>\n",
       "  <th>Df Residuals:</th>          <td>   347</td>      <th>  BIC:               </th> <td>   769.1</td> \n",
       "</tr>\n",
       "<tr>\n",
       "  <th>Df Model:</th>              <td>     1</td>      <th>                     </th>     <td> </td>    \n",
       "</tr>\n",
       "<tr>\n",
       "  <th>Covariance Type:</th>      <td>nonrobust</td>    <th>                     </th>     <td> </td>    \n",
       "</tr>\n",
       "</table>\n",
       "<table class=\"simpletable\">\n",
       "<tr>\n",
       "      <td></td>         <th>coef</th>     <th>std err</th>      <th>t</th>      <th>P>|t|</th>  <th>[0.025</th>    <th>0.975]</th>  \n",
       "</tr>\n",
       "<tr>\n",
       "  <th>Intercept</th> <td>    0.2279</td> <td>    0.106</td> <td>    2.155</td> <td> 0.032</td> <td>    0.020</td> <td>    0.436</td>\n",
       "</tr>\n",
       "<tr>\n",
       "  <th>gelir</th>     <td>    0.7083</td> <td>    0.022</td> <td>   32.160</td> <td> 0.000</td> <td>    0.665</td> <td>    0.752</td>\n",
       "</tr>\n",
       "</table>\n",
       "<table class=\"simpletable\">\n",
       "<tr>\n",
       "  <th>Omnibus:</th>       <td> 0.856</td> <th>  Durbin-Watson:     </th> <td>   2.129</td>\n",
       "</tr>\n",
       "<tr>\n",
       "  <th>Prob(Omnibus):</th> <td> 0.652</td> <th>  Jarque-Bera (JB):  </th> <td>   0.925</td>\n",
       "</tr>\n",
       "<tr>\n",
       "  <th>Skew:</th>          <td> 0.116</td> <th>  Prob(JB):          </th> <td>   0.630</td>\n",
       "</tr>\n",
       "<tr>\n",
       "  <th>Kurtosis:</th>      <td> 2.899</td> <th>  Cond. No.          </th> <td>    13.7</td>\n",
       "</tr>\n",
       "</table><br/><br/>Notes:<br/>[1] Standard Errors assume that the covariance matrix of the errors is correctly specified."
      ],
      "text/latex": [
       "\\begin{center}\n",
       "\\begin{tabular}{lclc}\n",
       "\\toprule\n",
       "\\textbf{Dep. Variable:}    &     mutluluk     & \\textbf{  R-squared:         } &     0.749   \\\\\n",
       "\\textbf{Model:}            &       OLS        & \\textbf{  Adj. R-squared:    } &     0.748   \\\\\n",
       "\\textbf{Method:}           &  Least Squares   & \\textbf{  F-statistic:       } &     1034.   \\\\\n",
       "\\textbf{Date:}             & Sat, 08 Jun 2024 & \\textbf{  Prob (F-statistic):} & 4.00e-106   \\\\\n",
       "\\textbf{Time:}             &     15:35:58     & \\textbf{  Log-Likelihood:    } &   -378.71   \\\\\n",
       "\\textbf{No. Observations:} &         349      & \\textbf{  AIC:               } &     761.4   \\\\\n",
       "\\textbf{Df Residuals:}     &         347      & \\textbf{  BIC:               } &     769.1   \\\\\n",
       "\\textbf{Df Model:}         &           1      & \\textbf{                     } &             \\\\\n",
       "\\textbf{Covariance Type:}  &    nonrobust     & \\textbf{                     } &             \\\\\n",
       "\\bottomrule\n",
       "\\end{tabular}\n",
       "\\begin{tabular}{lcccccc}\n",
       "                   & \\textbf{coef} & \\textbf{std err} & \\textbf{t} & \\textbf{P$> |$t$|$} & \\textbf{[0.025} & \\textbf{0.975]}  \\\\\n",
       "\\midrule\n",
       "\\textbf{Intercept} &       0.2279  &        0.106     &     2.155  &         0.032        &        0.020    &        0.436     \\\\\n",
       "\\textbf{gelir}     &       0.7083  &        0.022     &    32.160  &         0.000        &        0.665    &        0.752     \\\\\n",
       "\\bottomrule\n",
       "\\end{tabular}\n",
       "\\begin{tabular}{lclc}\n",
       "\\textbf{Omnibus:}       &  0.856 & \\textbf{  Durbin-Watson:     } &    2.129  \\\\\n",
       "\\textbf{Prob(Omnibus):} &  0.652 & \\textbf{  Jarque-Bera (JB):  } &    0.925  \\\\\n",
       "\\textbf{Skew:}          &  0.116 & \\textbf{  Prob(JB):          } &    0.630  \\\\\n",
       "\\textbf{Kurtosis:}      &  2.899 & \\textbf{  Cond. No.          } &     13.7  \\\\\n",
       "\\bottomrule\n",
       "\\end{tabular}\n",
       "%\\caption{OLS Regression Results}\n",
       "\\end{center}\n",
       "\n",
       "Notes: \\newline\n",
       " [1] Standard Errors assume that the covariance matrix of the errors is correctly specified."
      ],
      "text/plain": [
       "<class 'statsmodels.iolib.summary.Summary'>\n",
       "\"\"\"\n",
       "                            OLS Regression Results                            \n",
       "==============================================================================\n",
       "Dep. Variable:               mutluluk   R-squared:                       0.749\n",
       "Model:                            OLS   Adj. R-squared:                  0.748\n",
       "Method:                 Least Squares   F-statistic:                     1034.\n",
       "Date:                Sat, 08 Jun 2024   Prob (F-statistic):          4.00e-106\n",
       "Time:                        15:35:58   Log-Likelihood:                -378.71\n",
       "No. Observations:                 349   AIC:                             761.4\n",
       "Df Residuals:                     347   BIC:                             769.1\n",
       "Df Model:                           1                                         \n",
       "Covariance Type:            nonrobust                                         \n",
       "==============================================================================\n",
       "                 coef    std err          t      P>|t|      [0.025      0.975]\n",
       "------------------------------------------------------------------------------\n",
       "Intercept      0.2279      0.106      2.155      0.032       0.020       0.436\n",
       "gelir          0.7083      0.022     32.160      0.000       0.665       0.752\n",
       "==============================================================================\n",
       "Omnibus:                        0.856   Durbin-Watson:                   2.129\n",
       "Prob(Omnibus):                  0.652   Jarque-Bera (JB):                0.925\n",
       "Skew:                           0.116   Prob(JB):                        0.630\n",
       "Kurtosis:                       2.899   Cond. No.                         13.7\n",
       "==============================================================================\n",
       "\n",
       "Notes:\n",
       "[1] Standard Errors assume that the covariance matrix of the errors is correctly specified.\n",
       "\"\"\""
      ]
     },
     "execution_count": 11,
     "metadata": {},
     "output_type": "execute_result"
    }
   ],
   "source": [
    "# Modelleme\n",
    "# Doğrusal regresyon modelinin (lr_model) oluşturulabilmesi için smf.ols() fonksiyonu kullanılmıştır.\n",
    "# Bunun için fonksiyonun ilk argümanı olarak mutluluk ~ gelir biçiminde bağımlı değişkene karşı bağımsız değişken olacak biçimde modelin formül gösterimi yer almaktadır.\n",
    "# Eğitim veri seti ile model kurulacağından, ikinci argüman olarak eğitim veri seti (egitim) verilmiştir.\n",
    "#  .fit() ile model oluşturulmuştur.\n",
    "\n",
    "# Modele ait .summary() metodu ile model özeti yazdırılmıştır \n",
    "# Bu özet bilgi regresyon denkleminin oluşturulması ve regresyon modeli iyiliğinin değerlendirilebilmesine ilişkin birçok önemli bilgiyi içermektedir.\n",
    "lr_model=smf.ols(formula=\"mutluluk ~ gelir\",data=egitim).fit()\n",
    "lr_model.summary()"
   ]
  },
  {
   "cell_type": "code",
   "execution_count": 12,
   "metadata": {},
   "outputs": [
    {
     "data": {
      "text/plain": [
       "Intercept    0.227888\n",
       "gelir        0.708258\n",
       "dtype: float64"
      ]
     },
     "execution_count": 12,
     "metadata": {},
     "output_type": "execute_result"
    }
   ],
   "source": [
    "# regresyon modeli raporunda coef olarak verilenler model sabiti (Intercept) ve gelir değişkeni katsayısıdır (gelir)\n",
    "# P > |t| alanında listelenen değerler ise modele giren niteliklere ait anlamlılık düzeylerini göstermektedir\n",
    "# p değeri çok düşük olduğu için p <0.001, sıfır hipotezi reddedebilir ve gelirin mutluluk üzerinde istatistiksel olarak anlamlı bir etkisi olduğu sonucuna varılabilir.\n",
    "# Burada gelir ile mutluluk arasında anlamlı pozitif bir ilişki vardır ve gelirdeki her bir birimlik artışa karşılık mutlulukta 0.7083 birimlik bir artış söz konusudur.\n",
    "# Regresyon modelinin sabiti ve gelir niteliğine ait beta katsayılarına ayrıca ulaşmak için aşağıdaki kod satırı kullanılabilir.\n",
    "\n",
    "lr_model.params\n"
   ]
  },
  {
   "cell_type": "code",
   "execution_count": 15,
   "metadata": {},
   "outputs": [
    {
     "name": "stdout",
     "output_type": "stream",
     "text": [
      "Regresyon Modeli\n",
      "mutluluk= 0.228+0.708*gelir\n",
      "Modelin R^2 değeri:0.75\n"
     ]
    }
   ],
   "source": [
    "# Bu bilgilerden faydalanarak regresyon denklemi aşağıdaki gibi yazılabilir.\n",
    "\n",
    "print(\"Regresyon Modeli\")\n",
    "print(\"mutluluk= %.3f+%.3f*gelir\" % (lr_model.params[\"Intercept\"],lr_model.params[\"gelir\"]))\n",
    "\n",
    "# elde edilen modelin veriye uyumu,R^2  ile değerlendirilebilmektedir.\n",
    "# Hatırlanacak olursa, bu değerin 1’e yakın olması, modelin veriye iyi uyum sağladığını, 0’a yakın olması ise zayıf biçimde uyum sağladığını göstermektedir.\n",
    "# Aşağıdaki kodlar yardımı ile regresyon modelini R^2 değeri yazdırılabilir. \n",
    "r_sq=lr_model.rsquared\n",
    "print(\"Modelin R^2 değeri:%.2f\" % r_sq)"
   ]
  },
  {
   "cell_type": "code",
   "execution_count": 17,
   "metadata": {},
   "outputs": [
    {
     "name": "stdout",
     "output_type": "stream",
     "text": [
      "Modelin R^2 değeri= 0.75\n"
     ]
    }
   ],
   "source": [
    "#  Elde edilen modelin veriye uyumu, Regresyon Modeli tarafından açıklanan toplam değişkenliğin oranı R^2  ile değerlendirilebilmektedir\n",
    "r_sq=lr_model.rsquared\n",
    "print(\"Modelin R^2 değeri= %.2f\" % r_sq)"
   ]
  },
  {
   "cell_type": "code",
   "execution_count": 24,
   "metadata": {},
   "outputs": [
    {
     "data": {
      "text/plain": [
       "1      3.754577\n",
       "2      3.715322\n",
       "3      2.504494\n",
       "7      3.413708\n",
       "10     3.509136\n",
       "         ...   \n",
       "468    2.442275\n",
       "481    5.345191\n",
       "484    2.239442\n",
       "491    1.986056\n",
       "492    2.660828\n",
       "Length: 149, dtype: float64"
      ]
     },
     "execution_count": 24,
     "metadata": {},
     "output_type": "execute_result"
    }
   ],
   "source": [
    "# Performans Değerlendirme\n",
    "lr_tahminler=lr_model.predict(test[[\"gelir\"]])\n",
    "lr_tahminler # y = Intercept-0.2279\t+ gelir-0.7083*4.979381\n"
   ]
  },
  {
   "cell_type": "code",
   "execution_count": 28,
   "metadata": {},
   "outputs": [
    {
     "data": {
      "text/plain": [
       "3.7547955623000004"
      ]
     },
     "execution_count": 28,
     "metadata": {},
     "output_type": "execute_result"
    }
   ],
   "source": [
    "result=0.2279+0.7083*4.979381\n",
    "result"
   ]
  },
  {
   "cell_type": "code",
   "execution_count": 31,
   "metadata": {},
   "outputs": [
    {
     "name": "stdout",
     "output_type": "stream",
     "text": [
      "LR Modeli Tahminleri:\n",
      "1     3.754577\n",
      "2     3.715322\n",
      "3     2.504494\n",
      "7     3.413708\n",
      "10    3.509136\n",
      "dtype: float64\n",
      "Gerçek Değerler:\n",
      "1     3.433490\n",
      "2     4.599373\n",
      "3     2.791114\n",
      "7     1.907137\n",
      "10    3.175406\n",
      "Name: mutluluk, dtype: float64\n"
     ]
    }
   ],
   "source": [
    "print(\"LR Modeli Tahminleri:\",lr_tahminler.head(5), sep=\"\\n\")\n",
    "print(\"Gerçek Değerler:\",test.mutluluk.head(5), sep=\"\\n\")"
   ]
  },
  {
   "cell_type": "code",
   "execution_count": 32,
   "metadata": {},
   "outputs": [],
   "source": [
    "# Test veri setindeki tüm örnekler için model tahmin değerleri elde edildikten sonra gerçek değerler ve tahmin edilen değerler performansVerisi adlı bir DataFrame nesnesine atanmıştır"
   ]
  },
  {
   "cell_type": "code",
   "execution_count": 37,
   "metadata": {},
   "outputs": [
    {
     "data": {
      "text/html": [
       "<div>\n",
       "<style scoped>\n",
       "    .dataframe tbody tr th:only-of-type {\n",
       "        vertical-align: middle;\n",
       "    }\n",
       "\n",
       "    .dataframe tbody tr th {\n",
       "        vertical-align: top;\n",
       "    }\n",
       "\n",
       "    .dataframe thead th {\n",
       "        text-align: right;\n",
       "    }\n",
       "</style>\n",
       "<table border=\"1\" class=\"dataframe\">\n",
       "  <thead>\n",
       "    <tr style=\"text-align: right;\">\n",
       "      <th></th>\n",
       "      <th>y_test</th>\n",
       "      <th>lr_tahminler</th>\n",
       "    </tr>\n",
       "  </thead>\n",
       "  <tbody>\n",
       "    <tr>\n",
       "      <th>0</th>\n",
       "      <td>3.433490</td>\n",
       "      <td>3.754577</td>\n",
       "    </tr>\n",
       "    <tr>\n",
       "      <th>1</th>\n",
       "      <td>4.599373</td>\n",
       "      <td>3.715322</td>\n",
       "    </tr>\n",
       "    <tr>\n",
       "      <th>2</th>\n",
       "      <td>2.791114</td>\n",
       "      <td>2.504494</td>\n",
       "    </tr>\n",
       "    <tr>\n",
       "      <th>3</th>\n",
       "      <td>1.907137</td>\n",
       "      <td>3.413708</td>\n",
       "    </tr>\n",
       "    <tr>\n",
       "      <th>4</th>\n",
       "      <td>3.175406</td>\n",
       "      <td>3.509136</td>\n",
       "    </tr>\n",
       "    <tr>\n",
       "      <th>...</th>\n",
       "      <td>...</td>\n",
       "      <td>...</td>\n",
       "    </tr>\n",
       "    <tr>\n",
       "      <th>144</th>\n",
       "      <td>2.413382</td>\n",
       "      <td>2.442275</td>\n",
       "    </tr>\n",
       "    <tr>\n",
       "      <th>145</th>\n",
       "      <td>4.985255</td>\n",
       "      <td>5.345191</td>\n",
       "    </tr>\n",
       "    <tr>\n",
       "      <th>146</th>\n",
       "      <td>1.228773</td>\n",
       "      <td>2.239442</td>\n",
       "    </tr>\n",
       "    <tr>\n",
       "      <th>147</th>\n",
       "      <td>0.548365</td>\n",
       "      <td>1.986056</td>\n",
       "    </tr>\n",
       "    <tr>\n",
       "      <th>148</th>\n",
       "      <td>2.115136</td>\n",
       "      <td>2.660828</td>\n",
       "    </tr>\n",
       "  </tbody>\n",
       "</table>\n",
       "<p>149 rows × 2 columns</p>\n",
       "</div>"
      ],
      "text/plain": [
       "       y_test  lr_tahminler\n",
       "0    3.433490      3.754577\n",
       "1    4.599373      3.715322\n",
       "2    2.791114      2.504494\n",
       "3    1.907137      3.413708\n",
       "4    3.175406      3.509136\n",
       "..        ...           ...\n",
       "144  2.413382      2.442275\n",
       "145  4.985255      5.345191\n",
       "146  1.228773      2.239442\n",
       "147  0.548365      1.986056\n",
       "148  2.115136      2.660828\n",
       "\n",
       "[149 rows x 2 columns]"
      ]
     },
     "execution_count": 37,
     "metadata": {},
     "output_type": "execute_result"
    }
   ],
   "source": [
    "performansVerisi=pd.DataFrame(np.column_stack([test.mutluluk, lr_tahminler]))\n",
    "performansVerisi.columns=[\"y_test\",\"lr_tahminler\"]\n",
    "performansVerisi"
   ]
  },
  {
   "cell_type": "code",
   "execution_count": 40,
   "metadata": {},
   "outputs": [
    {
     "data": {
      "text/plain": [
       "0           NaN\n",
       "1     -0.321087\n",
       "2      0.884051\n",
       "3      0.286619\n",
       "4           NaN\n",
       "         ...   \n",
       "144   -0.920554\n",
       "145         NaN\n",
       "146         NaN\n",
       "147         NaN\n",
       "148   -0.032007\n",
       "Name: error, Length: 149, dtype: float64"
      ]
     },
     "execution_count": 40,
     "metadata": {},
     "output_type": "execute_result"
    }
   ],
   "source": [
    "# Hata\n",
    "performansVerisi[\"error\"]=test.mutluluk - lr_tahminler\n",
    "performansVerisi[\"error\"]"
   ]
  },
  {
   "cell_type": "code",
   "execution_count": 41,
   "metadata": {},
   "outputs": [],
   "source": [
    "# ortalama hata (ME)\n",
    "ME=np.sum((performansVerisi.error)/len(performansVerisi))"
   ]
  },
  {
   "cell_type": "code",
   "execution_count": 43,
   "metadata": {},
   "outputs": [],
   "source": [
    "# ortalama mutlak hata (MAE)\n",
    "MAE=np.sum(np.abs((performansVerisi.error)/len(performansVerisi)))"
   ]
  },
  {
   "cell_type": "code",
   "execution_count": 45,
   "metadata": {},
   "outputs": [],
   "source": [
    "# ortalama yüzde hata (MPE)\n",
    "MPE=100*(np.sum(performansVerisi.error/performansVerisi.y_test)/len(performansVerisi))\n"
   ]
  },
  {
   "cell_type": "code",
   "execution_count": 47,
   "metadata": {},
   "outputs": [],
   "source": [
    "# ortalama mutlak yüzde hata (MAPE),\n",
    "MAPE=100*(np.sum(np.abs(performansVerisi.error/performansVerisi.y_test))/len(performansVerisi))\n"
   ]
  },
  {
   "cell_type": "code",
   "execution_count": 48,
   "metadata": {},
   "outputs": [],
   "source": [
    "# ortalama karesel hata (MSE)\n",
    "MSE=np.sum(pow(performansVerisi.error,2))/len(performansVerisi)"
   ]
  },
  {
   "cell_type": "code",
   "execution_count": 50,
   "metadata": {},
   "outputs": [],
   "source": [
    "# ortalama karesel hatanın karekökü (RMSE)\n",
    "RMSE=np.sqrt(np.sum(pow(performansVerisi.error,2))/len(performansVerisi))"
   ]
  },
  {
   "cell_type": "code",
   "execution_count": 51,
   "metadata": {},
   "outputs": [],
   "source": [
    "mae=mean_absolute_error(y_true=test.mutluluk,y_pred=lr_tahminler)"
   ]
  },
  {
   "cell_type": "code",
   "execution_count": 53,
   "metadata": {},
   "outputs": [
    {
     "data": {
      "text/plain": [
       "[<matplotlib.lines.Line2D at 0x205135616d0>]"
      ]
     },
     "execution_count": 53,
     "metadata": {},
     "output_type": "execute_result"
    },
    {
     "data": {
      "image/png": "[encoded data removed]",
      "text/plain": [
       "<Figure size 640x480 with 1 Axes>"
      ]
     },
     "metadata": {},
     "output_type": "display_data"
    }
   ],
   "source": [
    "plt.scatter(test.gelir,test.mutluluk, color=\"hotpink\")\n",
    "plt.plot(test.gelir,lr_tahminler,color=\"navy\",linewidth=3)"
   ]
  }
 ],
 "metadata": {
  "kernelspec": {
   "display_name": "Python 3",
   "language": "python",
   "name": "python3"
  },
  "language_info": {
   "codemirror_mode": {
    "name": "ipython",
    "version": 3
   },
   "file_extension": ".py",
   "mimetype": "text/x-python",
   "name": "python",
   "nbconvert_exporter": "python",
   "pygments_lexer": "ipython3",
   "version": "3.12.3"
  }
 },
 "nbformat": 4,
 "nbformat_minor": 2
}
