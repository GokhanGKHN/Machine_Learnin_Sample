{
 "cells": [
  {
   "cell_type": "code",
   "execution_count": null,
   "metadata": {},
   "outputs": [],
   "source": [
    "# Bu çalışmada kullanılan veri seti (heart.data.csv), 500 kasabadan oluşan hayali bir örnekleme aittir\n",
    "# Veri setinde dört nitelik yer almaktadır.\n",
    "# Bunlardan ilki örneklerin numarasını temsil eden ID alanı (Unnamed: 0),\n",
    "# ikincisi her gün işe bisikletle giden insanların yüzdesi (bisikletKullanimi),\n",
    "# üçüncüsü sigara içen insanların yüzdesi (sigaraDurum) \n",
    "# sonuncusu ise kalp hastalığı olan insanların yüzdesidir (kalpHastaligi)\n",
    "\n",
    "\n",
    "# Bu çalışmanın amacı, her gün işe bisikletle giden insanların yüzdesi ve sigara \n",
    "# içen insanların yüzdesini kullanarak çoklu doğrusal regresyon modeli ile kalp hastalığı olan insanların yüzdesini tahmin etmektir."
   ]
  },
  {
   "cell_type": "code",
   "execution_count": 3,
   "metadata": {},
   "outputs": [],
   "source": [
    "import numpy as np\n",
    "import pandas as pd\n",
    "import seaborn as sns\n",
    "import matplotlib.pyplot as plt\n",
    "from scipy.stats import pearsonr\n",
    "from matplotlib.cbook import boxplot_stats\n",
    "import statsmodels.formula.api as smf\n",
    "from sklearn.metrics import mean_squared_error, mean_absolute_error\n"
   ]
  },
  {
   "cell_type": "code",
   "execution_count": 4,
   "metadata": {},
   "outputs": [
    {
     "data": {
      "text/html": [
       "<div>\n",
       "<style scoped>\n",
       "    .dataframe tbody tr th:only-of-type {\n",
       "        vertical-align: middle;\n",
       "    }\n",
       "\n",
       "    .dataframe tbody tr th {\n",
       "        vertical-align: top;\n",
       "    }\n",
       "\n",
       "    .dataframe thead th {\n",
       "        text-align: right;\n",
       "    }\n",
       "</style>\n",
       "<table border=\"1\" class=\"dataframe\">\n",
       "  <thead>\n",
       "    <tr style=\"text-align: right;\">\n",
       "      <th></th>\n",
       "      <th>Unnamed: 0</th>\n",
       "      <th>biking</th>\n",
       "      <th>smoking</th>\n",
       "      <th>heart.disease</th>\n",
       "    </tr>\n",
       "  </thead>\n",
       "  <tbody>\n",
       "    <tr>\n",
       "      <th>0</th>\n",
       "      <td>1</td>\n",
       "      <td>30.801246</td>\n",
       "      <td>10.896608</td>\n",
       "      <td>11.769423</td>\n",
       "    </tr>\n",
       "    <tr>\n",
       "      <th>1</th>\n",
       "      <td>2</td>\n",
       "      <td>65.129215</td>\n",
       "      <td>2.219563</td>\n",
       "      <td>2.854081</td>\n",
       "    </tr>\n",
       "    <tr>\n",
       "      <th>2</th>\n",
       "      <td>3</td>\n",
       "      <td>1.959665</td>\n",
       "      <td>17.588331</td>\n",
       "      <td>17.177803</td>\n",
       "    </tr>\n",
       "    <tr>\n",
       "      <th>3</th>\n",
       "      <td>4</td>\n",
       "      <td>44.800196</td>\n",
       "      <td>2.802559</td>\n",
       "      <td>6.816647</td>\n",
       "    </tr>\n",
       "    <tr>\n",
       "      <th>4</th>\n",
       "      <td>5</td>\n",
       "      <td>69.428454</td>\n",
       "      <td>15.974505</td>\n",
       "      <td>4.062224</td>\n",
       "    </tr>\n",
       "    <tr>\n",
       "      <th>5</th>\n",
       "      <td>6</td>\n",
       "      <td>54.403626</td>\n",
       "      <td>29.333176</td>\n",
       "      <td>9.550046</td>\n",
       "    </tr>\n",
       "  </tbody>\n",
       "</table>\n",
       "</div>"
      ],
      "text/plain": [
       "   Unnamed: 0     biking    smoking  heart.disease\n",
       "0           1  30.801246  10.896608      11.769423\n",
       "1           2  65.129215   2.219563       2.854081\n",
       "2           3   1.959665  17.588331      17.177803\n",
       "3           4  44.800196   2.802559       6.816647\n",
       "4           5  69.428454  15.974505       4.062224\n",
       "5           6  54.403626  29.333176       9.550046"
      ]
     },
     "execution_count": 4,
     "metadata": {},
     "output_type": "execute_result"
    }
   ],
   "source": [
    "# Veri Okuma\n",
    "veriSeti=pd.read_csv(\"heart.data.csv\")\n",
    "veriSeti.head(6)"
   ]
  },
  {
   "cell_type": "code",
   "execution_count": 5,
   "metadata": {},
   "outputs": [],
   "source": [
    "veriSeti= veriSeti.iloc[:,1:4]"
   ]
  },
  {
   "cell_type": "code",
   "execution_count": 7,
   "metadata": {},
   "outputs": [
    {
     "data": {
      "text/html": [
       "<div>\n",
       "<style scoped>\n",
       "    .dataframe tbody tr th:only-of-type {\n",
       "        vertical-align: middle;\n",
       "    }\n",
       "\n",
       "    .dataframe tbody tr th {\n",
       "        vertical-align: top;\n",
       "    }\n",
       "\n",
       "    .dataframe thead th {\n",
       "        text-align: right;\n",
       "    }\n",
       "</style>\n",
       "<table border=\"1\" class=\"dataframe\">\n",
       "  <thead>\n",
       "    <tr style=\"text-align: right;\">\n",
       "      <th></th>\n",
       "      <th>bisikletKullanimi</th>\n",
       "      <th>sigaraDurum</th>\n",
       "      <th>kalpHastaligi</th>\n",
       "    </tr>\n",
       "  </thead>\n",
       "  <tbody>\n",
       "    <tr>\n",
       "      <th>count</th>\n",
       "      <td>498.000000</td>\n",
       "      <td>498.000000</td>\n",
       "      <td>498.000000</td>\n",
       "    </tr>\n",
       "    <tr>\n",
       "      <th>mean</th>\n",
       "      <td>37.788411</td>\n",
       "      <td>15.435034</td>\n",
       "      <td>10.174538</td>\n",
       "    </tr>\n",
       "    <tr>\n",
       "      <th>std</th>\n",
       "      <td>21.481519</td>\n",
       "      <td>8.289959</td>\n",
       "      <td>4.571874</td>\n",
       "    </tr>\n",
       "    <tr>\n",
       "      <th>min</th>\n",
       "      <td>1.119154</td>\n",
       "      <td>0.525850</td>\n",
       "      <td>0.551898</td>\n",
       "    </tr>\n",
       "    <tr>\n",
       "      <th>25%</th>\n",
       "      <td>20.204598</td>\n",
       "      <td>8.279776</td>\n",
       "      <td>6.513683</td>\n",
       "    </tr>\n",
       "    <tr>\n",
       "      <th>50%</th>\n",
       "      <td>35.824459</td>\n",
       "      <td>15.814614</td>\n",
       "      <td>10.385255</td>\n",
       "    </tr>\n",
       "    <tr>\n",
       "      <th>75%</th>\n",
       "      <td>57.852786</td>\n",
       "      <td>22.568925</td>\n",
       "      <td>13.724024</td>\n",
       "    </tr>\n",
       "    <tr>\n",
       "      <th>max</th>\n",
       "      <td>74.907111</td>\n",
       "      <td>29.946743</td>\n",
       "      <td>20.453496</td>\n",
       "    </tr>\n",
       "  </tbody>\n",
       "</table>\n",
       "</div>"
      ],
      "text/plain": [
       "       bisikletKullanimi  sigaraDurum  kalpHastaligi\n",
       "count         498.000000   498.000000     498.000000\n",
       "mean           37.788411    15.435034      10.174538\n",
       "std            21.481519     8.289959       4.571874\n",
       "min             1.119154     0.525850       0.551898\n",
       "25%            20.204598     8.279776       6.513683\n",
       "50%            35.824459    15.814614      10.385255\n",
       "75%            57.852786    22.568925      13.724024\n",
       "max            74.907111    29.946743      20.453496"
      ]
     },
     "execution_count": 7,
     "metadata": {},
     "output_type": "execute_result"
    }
   ],
   "source": [
    "veriSeti=veriSeti.rename(columns={\n",
    "    \"biking\" :\"bisikletKullanimi\",\n",
    "    \"smoking\":\"sigaraDurum\",\n",
    "    \"heart.disease\" :\"kalpHastaligi\"\n",
    "})\n",
    "\n",
    "veriSeti.describe()"
   ]
  },
  {
   "cell_type": "code",
   "execution_count": 9,
   "metadata": {},
   "outputs": [
    {
     "data": {
      "text/plain": [
       "<Axes: xlabel='kalpHastaligi', ylabel='bisikletKullanimi'>"
      ]
     },
     "execution_count": 9,
     "metadata": {},
     "output_type": "execute_result"
    },
    {
     "data": {
      "image/png": "[encoded data removed]",
      "text/plain": [
       "<Figure size 640x480 with 1 Axes>"
      ]
     },
     "metadata": {},
     "output_type": "display_data"
    }
   ],
   "source": [
    "sns.scatterplot(x=\"kalpHastaligi\",y=\"bisikletKullanimi\",data=veriSeti)"
   ]
  },
  {
   "cell_type": "code",
   "execution_count": 11,
   "metadata": {},
   "outputs": [
    {
     "data": {
      "text/plain": [
       "<Axes: xlabel='kalpHastaligi', ylabel='sigaraDurum'>"
      ]
     },
     "execution_count": 11,
     "metadata": {},
     "output_type": "execute_result"
    },
    {
     "data": {
      "image/png": "[encoded data removed]",
      "text/plain": [
       "<Figure size 640x480 with 1 Axes>"
      ]
     },
     "metadata": {},
     "output_type": "display_data"
    }
   ],
   "source": [
    "sns.scatterplot(x=\"kalpHastaligi\",y=\"sigaraDurum\",data=veriSeti)"
   ]
  },
  {
   "cell_type": "code",
   "execution_count": 13,
   "metadata": {},
   "outputs": [
    {
     "data": {
      "text/plain": [
       "<Axes: xlabel='bisikletKullanimi', ylabel='sigaraDurum'>"
      ]
     },
     "execution_count": 13,
     "metadata": {},
     "output_type": "execute_result"
    },
    {
     "data": {
      "image/png": "[encoded data removed]",
      "text/plain": [
       "<Figure size 640x480 with 1 Axes>"
      ]
     },
     "metadata": {},
     "output_type": "display_data"
    }
   ],
   "source": [
    "sns.scatterplot(x=\"bisikletKullanimi\",y=\"sigaraDurum\",data=veriSeti)"
   ]
  },
  {
   "cell_type": "code",
   "execution_count": 16,
   "metadata": {},
   "outputs": [
    {
     "name": "stderr",
     "output_type": "stream",
     "text": [
      "C:\\Users\\gokha\\AppData\\Local\\Temp\\ipykernel_16808\\3621889415.py:1: FutureWarning: \n",
      "\n",
      "Passing `palette` without assigning `hue` is deprecated and will be removed in v0.14.0. Assign the `y` variable to `hue` and set `legend=False` for the same effect.\n",
      "\n",
      "  sns.boxplot(x=\"kalpHastaligi\",data=veriSeti,palette=\"summer\")\n"
     ]
    },
    {
     "data": {
      "text/plain": [
       "[{'mean': 10.17453806796976,\n",
       "  'iqr': 7.210341027356118,\n",
       "  'cilo': 9.87798278557187,\n",
       "  'cihi': 10.892526542427628,\n",
       "  'whishi': 20.453496225445,\n",
       "  'whislo': 0.551898154405674,\n",
       "  'fliers': array([], dtype=float64),\n",
       "  'q1': 6.513682578313207,\n",
       "  'med': 10.38525466399975,\n",
       "  'q3': 13.724023605669325}]"
      ]
     },
     "execution_count": 16,
     "metadata": {},
     "output_type": "execute_result"
    },
    {
     "data": {
      "image/png": "[encoded data removed]",
      "text/plain": [
       "<Figure size 640x480 with 1 Axes>"
      ]
     },
     "metadata": {},
     "output_type": "display_data"
    }
   ],
   "source": [
    "sns.boxplot(x=\"kalpHastaligi\",data=veriSeti,palette=\"summer\")\n",
    "boxplot_stats(veriSeti.kalpHastaligi)"
   ]
  },
  {
   "cell_type": "code",
   "execution_count": 19,
   "metadata": {},
   "outputs": [
    {
     "name": "stdout",
     "output_type": "stream",
     "text": [
      "bisikletKullanimi    0\n",
      "sigaraDurum          0\n",
      "kalpHastaligi        0\n",
      "dtype: int64\n"
     ]
    },
    {
     "data": {
      "text/html": [
       "<div>\n",
       "<style scoped>\n",
       "    .dataframe tbody tr th:only-of-type {\n",
       "        vertical-align: middle;\n",
       "    }\n",
       "\n",
       "    .dataframe tbody tr th {\n",
       "        vertical-align: top;\n",
       "    }\n",
       "\n",
       "    .dataframe thead th {\n",
       "        text-align: right;\n",
       "    }\n",
       "</style>\n",
       "<table border=\"1\" class=\"dataframe\">\n",
       "  <thead>\n",
       "    <tr style=\"text-align: right;\">\n",
       "      <th></th>\n",
       "      <th>bisikletKullanimi</th>\n",
       "      <th>sigaraDurum</th>\n",
       "      <th>kalpHastaligi</th>\n",
       "    </tr>\n",
       "  </thead>\n",
       "  <tbody>\n",
       "    <tr>\n",
       "      <th>count</th>\n",
       "      <td>498.000000</td>\n",
       "      <td>498.000000</td>\n",
       "      <td>498.000000</td>\n",
       "    </tr>\n",
       "    <tr>\n",
       "      <th>mean</th>\n",
       "      <td>37.788411</td>\n",
       "      <td>15.435034</td>\n",
       "      <td>10.174538</td>\n",
       "    </tr>\n",
       "    <tr>\n",
       "      <th>std</th>\n",
       "      <td>21.481519</td>\n",
       "      <td>8.289959</td>\n",
       "      <td>4.571874</td>\n",
       "    </tr>\n",
       "    <tr>\n",
       "      <th>min</th>\n",
       "      <td>1.119154</td>\n",
       "      <td>0.525850</td>\n",
       "      <td>0.551898</td>\n",
       "    </tr>\n",
       "    <tr>\n",
       "      <th>25%</th>\n",
       "      <td>20.204598</td>\n",
       "      <td>8.279776</td>\n",
       "      <td>6.513683</td>\n",
       "    </tr>\n",
       "    <tr>\n",
       "      <th>50%</th>\n",
       "      <td>35.824459</td>\n",
       "      <td>15.814614</td>\n",
       "      <td>10.385255</td>\n",
       "    </tr>\n",
       "    <tr>\n",
       "      <th>75%</th>\n",
       "      <td>57.852786</td>\n",
       "      <td>22.568925</td>\n",
       "      <td>13.724024</td>\n",
       "    </tr>\n",
       "    <tr>\n",
       "      <th>max</th>\n",
       "      <td>74.907111</td>\n",
       "      <td>29.946743</td>\n",
       "      <td>20.453496</td>\n",
       "    </tr>\n",
       "  </tbody>\n",
       "</table>\n",
       "</div>"
      ],
      "text/plain": [
       "       bisikletKullanimi  sigaraDurum  kalpHastaligi\n",
       "count         498.000000   498.000000     498.000000\n",
       "mean           37.788411    15.435034      10.174538\n",
       "std            21.481519     8.289959       4.571874\n",
       "min             1.119154     0.525850       0.551898\n",
       "25%            20.204598     8.279776       6.513683\n",
       "50%            35.824459    15.814614      10.385255\n",
       "75%            57.852786    22.568925      13.724024\n",
       "max            74.907111    29.946743      20.453496"
      ]
     },
     "execution_count": 19,
     "metadata": {},
     "output_type": "execute_result"
    }
   ],
   "source": [
    "# Veri setinde eksik değer kontrolü yapılmış ancak herhangi bir eksik değere rastlanmamıştır.\n",
    "\n",
    "print(veriSeti.isnull().sum())\n",
    "veriSeti.describe()"
   ]
  },
  {
   "cell_type": "code",
   "execution_count": 24,
   "metadata": {},
   "outputs": [
    {
     "data": {
      "text/plain": [
       "PearsonRResult(statistic=0.015136184529564913, pvalue=0.7361558942332667)"
      ]
     },
     "execution_count": 24,
     "metadata": {},
     "output_type": "execute_result"
    }
   ],
   "source": [
    "pearsonr(veriSeti.kalpHastaligi,veriSeti.bisikletKullanimi)\n",
    "pearsonr(veriSeti.kalpHastaligi,veriSeti.sigaraDurum)\n",
    "pearsonr(veriSeti.bisikletKullanimi,veriSeti.sigaraDurum)"
   ]
  },
  {
   "cell_type": "code",
   "execution_count": 47,
   "metadata": {},
   "outputs": [
    {
     "data": {
      "text/html": [
       "<div>\n",
       "<style scoped>\n",
       "    .dataframe tbody tr th:only-of-type {\n",
       "        vertical-align: middle;\n",
       "    }\n",
       "\n",
       "    .dataframe tbody tr th {\n",
       "        vertical-align: top;\n",
       "    }\n",
       "\n",
       "    .dataframe thead th {\n",
       "        text-align: right;\n",
       "    }\n",
       "</style>\n",
       "<table border=\"1\" class=\"dataframe\">\n",
       "  <thead>\n",
       "    <tr style=\"text-align: right;\">\n",
       "      <th></th>\n",
       "      <th>bisikletKullanimi</th>\n",
       "      <th>sigaraDurum</th>\n",
       "      <th>kalpHastaligi</th>\n",
       "    </tr>\n",
       "  </thead>\n",
       "  <tbody>\n",
       "    <tr>\n",
       "      <th>1</th>\n",
       "      <td>65.129215</td>\n",
       "      <td>2.219563</td>\n",
       "      <td>2.854081</td>\n",
       "    </tr>\n",
       "    <tr>\n",
       "      <th>2</th>\n",
       "      <td>1.959665</td>\n",
       "      <td>17.588331</td>\n",
       "      <td>17.177803</td>\n",
       "    </tr>\n",
       "    <tr>\n",
       "      <th>3</th>\n",
       "      <td>44.800196</td>\n",
       "      <td>2.802559</td>\n",
       "      <td>6.816647</td>\n",
       "    </tr>\n",
       "    <tr>\n",
       "      <th>7</th>\n",
       "      <td>4.784604</td>\n",
       "      <td>12.835021</td>\n",
       "      <td>15.854654</td>\n",
       "    </tr>\n",
       "    <tr>\n",
       "      <th>10</th>\n",
       "      <td>51.825567</td>\n",
       "      <td>14.435118</td>\n",
       "      <td>6.430248</td>\n",
       "    </tr>\n",
       "    <tr>\n",
       "      <th>...</th>\n",
       "      <td>...</td>\n",
       "      <td>...</td>\n",
       "      <td>...</td>\n",
       "    </tr>\n",
       "    <tr>\n",
       "      <th>468</th>\n",
       "      <td>11.658029</td>\n",
       "      <td>26.734176</td>\n",
       "      <td>17.473940</td>\n",
       "    </tr>\n",
       "    <tr>\n",
       "      <th>481</th>\n",
       "      <td>33.262015</td>\n",
       "      <td>6.812130</td>\n",
       "      <td>10.372329</td>\n",
       "    </tr>\n",
       "    <tr>\n",
       "      <th>484</th>\n",
       "      <td>22.719661</td>\n",
       "      <td>1.024756</td>\n",
       "      <td>10.893894</td>\n",
       "    </tr>\n",
       "    <tr>\n",
       "      <th>491</th>\n",
       "      <td>68.884065</td>\n",
       "      <td>10.542996</td>\n",
       "      <td>3.109338</td>\n",
       "    </tr>\n",
       "    <tr>\n",
       "      <th>492</th>\n",
       "      <td>21.599230</td>\n",
       "      <td>7.604330</td>\n",
       "      <td>12.373691</td>\n",
       "    </tr>\n",
       "  </tbody>\n",
       "</table>\n",
       "<p>149 rows × 3 columns</p>\n",
       "</div>"
      ],
      "text/plain": [
       "     bisikletKullanimi  sigaraDurum  kalpHastaligi\n",
       "1            65.129215     2.219563       2.854081\n",
       "2             1.959665    17.588331      17.177803\n",
       "3            44.800196     2.802559       6.816647\n",
       "7             4.784604    12.835021      15.854654\n",
       "10           51.825567    14.435118       6.430248\n",
       "..                 ...          ...            ...\n",
       "468          11.658029    26.734176      17.473940\n",
       "481          33.262015     6.812130      10.372329\n",
       "484          22.719661     1.024756      10.893894\n",
       "491          68.884065    10.542996       3.109338\n",
       "492          21.599230     7.604330      12.373691\n",
       "\n",
       "[149 rows x 3 columns]"
      ]
     },
     "execution_count": 47,
     "metadata": {},
     "output_type": "execute_result"
    }
   ],
   "source": [
    "egıtım=veriSeti.sample(frac=0.7,replace=False,random_state=1)\n",
    "ind=veriSeti.index.isin(egıtım.index)\n",
    "test=veriSeti[~ind]\n",
    "test"
   ]
  },
  {
   "cell_type": "code",
   "execution_count": 29,
   "metadata": {},
   "outputs": [
    {
     "data": {
      "text/html": [
       "<table class=\"simpletable\">\n",
       "<caption>OLS Regression Results</caption>\n",
       "<tr>\n",
       "  <th>Dep. Variable:</th>      <td>kalpHastaligi</td>  <th>  R-squared:         </th> <td>   0.978</td> \n",
       "</tr>\n",
       "<tr>\n",
       "  <th>Model:</th>                   <td>OLS</td>       <th>  Adj. R-squared:    </th> <td>   0.978</td> \n",
       "</tr>\n",
       "<tr>\n",
       "  <th>Method:</th>             <td>Least Squares</td>  <th>  F-statistic:       </th> <td>   7670.</td> \n",
       "</tr>\n",
       "<tr>\n",
       "  <th>Date:</th>             <td>Sat, 08 Jun 2024</td> <th>  Prob (F-statistic):</th> <td>2.71e-287</td>\n",
       "</tr>\n",
       "<tr>\n",
       "  <th>Time:</th>                 <td>17:37:12</td>     <th>  Log-Likelihood:    </th> <td> -346.98</td> \n",
       "</tr>\n",
       "<tr>\n",
       "  <th>No. Observations:</th>      <td>   349</td>      <th>  AIC:               </th> <td>   700.0</td> \n",
       "</tr>\n",
       "<tr>\n",
       "  <th>Df Residuals:</th>          <td>   346</td>      <th>  BIC:               </th> <td>   711.5</td> \n",
       "</tr>\n",
       "<tr>\n",
       "  <th>Df Model:</th>              <td>     2</td>      <th>                     </th>     <td> </td>    \n",
       "</tr>\n",
       "<tr>\n",
       "  <th>Covariance Type:</th>      <td>nonrobust</td>    <th>                     </th>     <td> </td>    \n",
       "</tr>\n",
       "</table>\n",
       "<table class=\"simpletable\">\n",
       "<tr>\n",
       "          <td></td>             <th>coef</th>     <th>std err</th>      <th>t</th>      <th>P>|t|</th>  <th>[0.025</th>    <th>0.975]</th>  \n",
       "</tr>\n",
       "<tr>\n",
       "  <th>Intercept</th>         <td>   14.9346</td> <td>    0.094</td> <td>  158.300</td> <td> 0.000</td> <td>   14.749</td> <td>   15.120</td>\n",
       "</tr>\n",
       "<tr>\n",
       "  <th>bisikletKullanimi</th> <td>   -0.1997</td> <td>    0.002</td> <td> -119.859</td> <td> 0.000</td> <td>   -0.203</td> <td>   -0.196</td>\n",
       "</tr>\n",
       "<tr>\n",
       "  <th>sigaraDurum</th>       <td>    0.1808</td> <td>    0.004</td> <td>   41.565</td> <td> 0.000</td> <td>    0.172</td> <td>    0.189</td>\n",
       "</tr>\n",
       "</table>\n",
       "<table class=\"simpletable\">\n",
       "<tr>\n",
       "  <th>Omnibus:</th>       <td> 0.866</td> <th>  Durbin-Watson:     </th> <td>   2.091</td>\n",
       "</tr>\n",
       "<tr>\n",
       "  <th>Prob(Omnibus):</th> <td> 0.649</td> <th>  Jarque-Bera (JB):  </th> <td>   0.764</td>\n",
       "</tr>\n",
       "<tr>\n",
       "  <th>Skew:</th>          <td>-0.114</td> <th>  Prob(JB):          </th> <td>   0.682</td>\n",
       "</tr>\n",
       "<tr>\n",
       "  <th>Kurtosis:</th>      <td> 3.028</td> <th>  Cond. No.          </th> <td>    119.</td>\n",
       "</tr>\n",
       "</table><br/><br/>Notes:<br/>[1] Standard Errors assume that the covariance matrix of the errors is correctly specified."
      ],
      "text/latex": [
       "\\begin{center}\n",
       "\\begin{tabular}{lclc}\n",
       "\\toprule\n",
       "\\textbf{Dep. Variable:}    &  kalpHastaligi   & \\textbf{  R-squared:         } &     0.978   \\\\\n",
       "\\textbf{Model:}            &       OLS        & \\textbf{  Adj. R-squared:    } &     0.978   \\\\\n",
       "\\textbf{Method:}           &  Least Squares   & \\textbf{  F-statistic:       } &     7670.   \\\\\n",
       "\\textbf{Date:}             & Sat, 08 Jun 2024 & \\textbf{  Prob (F-statistic):} & 2.71e-287   \\\\\n",
       "\\textbf{Time:}             &     17:37:12     & \\textbf{  Log-Likelihood:    } &   -346.98   \\\\\n",
       "\\textbf{No. Observations:} &         349      & \\textbf{  AIC:               } &     700.0   \\\\\n",
       "\\textbf{Df Residuals:}     &         346      & \\textbf{  BIC:               } &     711.5   \\\\\n",
       "\\textbf{Df Model:}         &           2      & \\textbf{                     } &             \\\\\n",
       "\\textbf{Covariance Type:}  &    nonrobust     & \\textbf{                     } &             \\\\\n",
       "\\bottomrule\n",
       "\\end{tabular}\n",
       "\\begin{tabular}{lcccccc}\n",
       "                           & \\textbf{coef} & \\textbf{std err} & \\textbf{t} & \\textbf{P$> |$t$|$} & \\textbf{[0.025} & \\textbf{0.975]}  \\\\\n",
       "\\midrule\n",
       "\\textbf{Intercept}         &      14.9346  &        0.094     &   158.300  &         0.000        &       14.749    &       15.120     \\\\\n",
       "\\textbf{bisikletKullanimi} &      -0.1997  &        0.002     &  -119.859  &         0.000        &       -0.203    &       -0.196     \\\\\n",
       "\\textbf{sigaraDurum}       &       0.1808  &        0.004     &    41.565  &         0.000        &        0.172    &        0.189     \\\\\n",
       "\\bottomrule\n",
       "\\end{tabular}\n",
       "\\begin{tabular}{lclc}\n",
       "\\textbf{Omnibus:}       &  0.866 & \\textbf{  Durbin-Watson:     } &    2.091  \\\\\n",
       "\\textbf{Prob(Omnibus):} &  0.649 & \\textbf{  Jarque-Bera (JB):  } &    0.764  \\\\\n",
       "\\textbf{Skew:}          & -0.114 & \\textbf{  Prob(JB):          } &    0.682  \\\\\n",
       "\\textbf{Kurtosis:}      &  3.028 & \\textbf{  Cond. No.          } &     119.  \\\\\n",
       "\\bottomrule\n",
       "\\end{tabular}\n",
       "%\\caption{OLS Regression Results}\n",
       "\\end{center}\n",
       "\n",
       "Notes: \\newline\n",
       " [1] Standard Errors assume that the covariance matrix of the errors is correctly specified."
      ],
      "text/plain": [
       "<class 'statsmodels.iolib.summary.Summary'>\n",
       "\"\"\"\n",
       "                            OLS Regression Results                            \n",
       "==============================================================================\n",
       "Dep. Variable:          kalpHastaligi   R-squared:                       0.978\n",
       "Model:                            OLS   Adj. R-squared:                  0.978\n",
       "Method:                 Least Squares   F-statistic:                     7670.\n",
       "Date:                Sat, 08 Jun 2024   Prob (F-statistic):          2.71e-287\n",
       "Time:                        17:37:12   Log-Likelihood:                -346.98\n",
       "No. Observations:                 349   AIC:                             700.0\n",
       "Df Residuals:                     346   BIC:                             711.5\n",
       "Df Model:                           2                                         \n",
       "Covariance Type:            nonrobust                                         \n",
       "=====================================================================================\n",
       "                        coef    std err          t      P>|t|      [0.025      0.975]\n",
       "-------------------------------------------------------------------------------------\n",
       "Intercept            14.9346      0.094    158.300      0.000      14.749      15.120\n",
       "bisikletKullanimi    -0.1997      0.002   -119.859      0.000      -0.203      -0.196\n",
       "sigaraDurum           0.1808      0.004     41.565      0.000       0.172       0.189\n",
       "==============================================================================\n",
       "Omnibus:                        0.866   Durbin-Watson:                   2.091\n",
       "Prob(Omnibus):                  0.649   Jarque-Bera (JB):                0.764\n",
       "Skew:                          -0.114   Prob(JB):                        0.682\n",
       "Kurtosis:                       3.028   Cond. No.                         119.\n",
       "==============================================================================\n",
       "\n",
       "Notes:\n",
       "[1] Standard Errors assume that the covariance matrix of the errors is correctly specified.\n",
       "\"\"\""
      ]
     },
     "execution_count": 29,
     "metadata": {},
     "output_type": "execute_result"
    }
   ],
   "source": [
    "#Modelleme\n",
    "lr_model=smf.ols(formula=\"kalpHastaligi ~ bisikletKullanimi + sigaraDurum\",data=egıtım).fit()\n",
    "lr_model.summary()"
   ]
  },
  {
   "cell_type": "code",
   "execution_count": 30,
   "metadata": {},
   "outputs": [
    {
     "data": {
      "text/plain": [
       "Intercept            14.934646\n",
       "bisikletKullanimi    -0.199714\n",
       "sigaraDurum           0.180831\n",
       "dtype: float64"
      ]
     },
     "execution_count": 30,
     "metadata": {},
     "output_type": "execute_result"
    }
   ],
   "source": [
    "lr_model.params"
   ]
  },
  {
   "cell_type": "code",
   "execution_count": 38,
   "metadata": {},
   "outputs": [
    {
     "name": "stdout",
     "output_type": "stream",
     "text": [
      "Modelin r^2 degeri=0.98\n"
     ]
    }
   ],
   "source": [
    "r_sq=lr_model.rsquared\n",
    "print(\"Modelin r^2 degeri=%.2f\" % r_sq)\n"
   ]
  },
  {
   "cell_type": "code",
   "execution_count": 42,
   "metadata": {},
   "outputs": [
    {
     "data": {
      "text/plain": [
       "2.328782771990067"
      ]
     },
     "execution_count": 42,
     "metadata": {},
     "output_type": "execute_result"
    }
   ],
   "source": [
    "kalpHastaliği_test1=lr_model.params[\"Intercept\"] + lr_model.params[\"bisikletKullanimi\"] * test.loc[1,\"bisikletKullanimi\"] + lr_model.params[\"sigaraDurum\"] * test.loc[1,\"sigaraDurum\"]\n",
    "kalpHastaliği_test1"
   ]
  },
  {
   "cell_type": "code",
   "execution_count": 48,
   "metadata": {},
   "outputs": [
    {
     "data": {
      "text/html": [
       "<div>\n",
       "<style scoped>\n",
       "    .dataframe tbody tr th:only-of-type {\n",
       "        vertical-align: middle;\n",
       "    }\n",
       "\n",
       "    .dataframe tbody tr th {\n",
       "        vertical-align: top;\n",
       "    }\n",
       "\n",
       "    .dataframe thead th {\n",
       "        text-align: right;\n",
       "    }\n",
       "</style>\n",
       "<table border=\"1\" class=\"dataframe\">\n",
       "  <thead>\n",
       "    <tr style=\"text-align: right;\">\n",
       "      <th></th>\n",
       "      <th>bisikletKullanimi</th>\n",
       "      <th>sigaraDurum</th>\n",
       "      <th>kalpHastaligi</th>\n",
       "    </tr>\n",
       "  </thead>\n",
       "  <tbody>\n",
       "    <tr>\n",
       "      <th>1</th>\n",
       "      <td>65.129215</td>\n",
       "      <td>2.219563</td>\n",
       "      <td>2.854081</td>\n",
       "    </tr>\n",
       "    <tr>\n",
       "      <th>2</th>\n",
       "      <td>1.959665</td>\n",
       "      <td>17.588331</td>\n",
       "      <td>17.177803</td>\n",
       "    </tr>\n",
       "    <tr>\n",
       "      <th>3</th>\n",
       "      <td>44.800196</td>\n",
       "      <td>2.802559</td>\n",
       "      <td>6.816647</td>\n",
       "    </tr>\n",
       "    <tr>\n",
       "      <th>7</th>\n",
       "      <td>4.784604</td>\n",
       "      <td>12.835021</td>\n",
       "      <td>15.854654</td>\n",
       "    </tr>\n",
       "    <tr>\n",
       "      <th>10</th>\n",
       "      <td>51.825567</td>\n",
       "      <td>14.435118</td>\n",
       "      <td>6.430248</td>\n",
       "    </tr>\n",
       "    <tr>\n",
       "      <th>...</th>\n",
       "      <td>...</td>\n",
       "      <td>...</td>\n",
       "      <td>...</td>\n",
       "    </tr>\n",
       "    <tr>\n",
       "      <th>468</th>\n",
       "      <td>11.658029</td>\n",
       "      <td>26.734176</td>\n",
       "      <td>17.473940</td>\n",
       "    </tr>\n",
       "    <tr>\n",
       "      <th>481</th>\n",
       "      <td>33.262015</td>\n",
       "      <td>6.812130</td>\n",
       "      <td>10.372329</td>\n",
       "    </tr>\n",
       "    <tr>\n",
       "      <th>484</th>\n",
       "      <td>22.719661</td>\n",
       "      <td>1.024756</td>\n",
       "      <td>10.893894</td>\n",
       "    </tr>\n",
       "    <tr>\n",
       "      <th>491</th>\n",
       "      <td>68.884065</td>\n",
       "      <td>10.542996</td>\n",
       "      <td>3.109338</td>\n",
       "    </tr>\n",
       "    <tr>\n",
       "      <th>492</th>\n",
       "      <td>21.599230</td>\n",
       "      <td>7.604330</td>\n",
       "      <td>12.373691</td>\n",
       "    </tr>\n",
       "  </tbody>\n",
       "</table>\n",
       "<p>149 rows × 3 columns</p>\n",
       "</div>"
      ],
      "text/plain": [
       "     bisikletKullanimi  sigaraDurum  kalpHastaligi\n",
       "1            65.129215     2.219563       2.854081\n",
       "2             1.959665    17.588331      17.177803\n",
       "3            44.800196     2.802559       6.816647\n",
       "7             4.784604    12.835021      15.854654\n",
       "10           51.825567    14.435118       6.430248\n",
       "..                 ...          ...            ...\n",
       "468          11.658029    26.734176      17.473940\n",
       "481          33.262015     6.812130      10.372329\n",
       "484          22.719661     1.024756      10.893894\n",
       "491          68.884065    10.542996       3.109338\n",
       "492          21.599230     7.604330      12.373691\n",
       "\n",
       "[149 rows x 3 columns]"
      ]
     },
     "execution_count": 48,
     "metadata": {},
     "output_type": "execute_result"
    }
   ],
   "source": [
    "lr_tahimler=lr_model.predict(test[[\"bisikletKullanimi\",\"sigaraDurum\"]])\n",
    "test"
   ]
  },
  {
   "cell_type": "code",
   "execution_count": 50,
   "metadata": {},
   "outputs": [
    {
     "name": "stdout",
     "output_type": "stream",
     "text": [
      "LR Modeli Tahminleri:\n",
      "1      2.328783\n",
      "2     17.723784\n",
      "3      6.494200\n",
      "7     16.300059\n",
      "10     7.194658\n",
      "dtype: float64\n",
      "Gerçek Değerler:\n",
      "1      2.854081\n",
      "2     17.177803\n",
      "3      6.816647\n",
      "7     15.854654\n",
      "10     6.430248\n",
      "Name: kalpHastaligi, dtype: float64\n"
     ]
    }
   ],
   "source": [
    "print(\"LR Modeli Tahminleri:\",lr_tahimler.head(5),sep=\"\\n\")\n",
    "print(\"Gerçek Değerler:\",test.kalpHastaligi.head(5),sep=\"\\n\")"
   ]
  },
  {
   "cell_type": "code",
   "execution_count": null,
   "metadata": {},
   "outputs": [],
   "source": [
    "performansVerisi= pd.DataFrame(np.column_stack([test.kalpHastaligi,lr_tahimler]))\n",
    "performansVerisi.columns=[\"y_test\",\"y_tahminler\"]"
   ]
  }
 ],
 "metadata": {
  "kernelspec": {
   "display_name": "Python 3",
   "language": "python",
   "name": "python3"
  },
  "language_info": {
   "codemirror_mode": {
    "name": "ipython",
    "version": 3
   },
   "file_extension": ".py",
   "mimetype": "text/x-python",
   "name": "python",
   "nbconvert_exporter": "python",
   "pygments_lexer": "ipython3",
   "version": "3.12.3"
  }
 },
 "nbformat": 4,
 "nbformat_minor": 2
}
