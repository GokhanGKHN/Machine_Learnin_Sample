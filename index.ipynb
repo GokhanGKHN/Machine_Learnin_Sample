{
 "cells": [
  {
   "cell_type": "markdown",
   "metadata": {},
   "source": [
    " Makine öğrenmesini basit bir şekilde anlatmak gerekisre geçmişteki verileri algoritmalarla bilgisayara öğretmek ve bilgisayarın tahminde bulunmasını sağlatmak diyebiliriz. Makine öğrenmesi veriye dayalı olarak yapılır. Örnek olarak elimizde araba fiyatları varsa bu verileri analiz ederek veri setinde olmayan arabaların fiyatlarını makine öğrenmesi ile modele tahmin ettirebiliriz.\n",
    "  <br> <br>\n",
    "En temelde iki tane moldel tipi var biri sınıflandırma diğeri ise regresyondur. \n",
    "- Sınıflandırmada bir kategori buluruz. Yani hangi arabayı tercih etmem gerekiryor Ford mu? veya Toyota mı? \n",
    "- Regresyonda ise bir aralık bulur. Doğrusal bir yapı üzerindeki bir noktayı buluyorum. Araba fiyatını 850.000 ile 950.000 arasındaki bir değer bulabilirim. Burada net fiyatı tahmin etmek mümkün değildir. <br>\n",
    "\n",
    "Regresyon formulü\n",
    "Y=ax+b \n",
    "Yukarıdaki fomuldeki;\n",
    "y=bağımlı değişken,\n",
    "x=bağımsız değişken, \n",
    "a=bağımısz değişkenin katsayısı,\n",
    "b=hata"
   ]
  },
  {
   "cell_type": "markdown",
   "metadata": {},
   "source": []
  },
  {
   "cell_type": "markdown",
   "metadata": {},
   "source": [
    "Örnekte kullanacağım kütüphane <br>\n",
    "**scikit-learn**, Python programlama dili için ücretsiz ve açık kaynaklı bir makine öğrenimi kütüphanesidir. <br>\n",
    "**pandas**, veri işlemesi ve analizi için Python programlama dilinde yazılmış olan bir yazılım kütüphanesidir. Bu kütüphane temel olarak zaman etiketli serileri ve sayısal tabloları işlemek için bir veri yapısı oluşturur ve bu şekilde çeşitli işlemler bu veri yapısı üzerinde gerçekleştirilebilir olur.<br>\n",
    "\n",
    "Data set **kaggel**'dan alındı. Kaggle, Google LLC kapsamındaki bir veri bilimi yarışma platformu ve veri bilimcileri ve makine öğrenimi uygulayıcılarından oluşan çevrimiçi bir topluluktur.\n"
   ]
  },
  {
   "cell_type": "code",
   "execution_count": 1,
   "metadata": {},
   "outputs": [],
   "source": [
    "from sklearn.linear_model import LinearRegression\n",
    "import pandas as pd "
   ]
  },
  {
   "cell_type": "code",
   "execution_count": 2,
   "metadata": {},
   "outputs": [],
   "source": [
    "#Pandas kütüphanesinde yer alan pd.read_csv() fonksiyonu ile ile csv dosyasını okuyorum ve df değişkenine aktarıyorum...\n",
    "df=pd.read_csv(\"Student_Marks.csv\")"
   ]
  },
  {
   "cell_type": "code",
   "execution_count": 4,
   "metadata": {},
   "outputs": [
    {
     "data": {
      "text/html": [
       "<div>\n",
       "<style scoped>\n",
       "    .dataframe tbody tr th:only-of-type {\n",
       "        vertical-align: middle;\n",
       "    }\n",
       "\n",
       "    .dataframe tbody tr th {\n",
       "        vertical-align: top;\n",
       "    }\n",
       "\n",
       "    .dataframe thead th {\n",
       "        text-align: right;\n",
       "    }\n",
       "</style>\n",
       "<table border=\"1\" class=\"dataframe\">\n",
       "  <thead>\n",
       "    <tr style=\"text-align: right;\">\n",
       "      <th></th>\n",
       "      <th>number_courses</th>\n",
       "      <th>time_study</th>\n",
       "      <th>Marks</th>\n",
       "    </tr>\n",
       "  </thead>\n",
       "  <tbody>\n",
       "    <tr>\n",
       "      <th>0</th>\n",
       "      <td>3</td>\n",
       "      <td>4.508</td>\n",
       "      <td>19.202</td>\n",
       "    </tr>\n",
       "    <tr>\n",
       "      <th>1</th>\n",
       "      <td>4</td>\n",
       "      <td>0.096</td>\n",
       "      <td>7.734</td>\n",
       "    </tr>\n",
       "    <tr>\n",
       "      <th>2</th>\n",
       "      <td>4</td>\n",
       "      <td>3.133</td>\n",
       "      <td>13.811</td>\n",
       "    </tr>\n",
       "  </tbody>\n",
       "</table>\n",
       "</div>"
      ],
      "text/plain": [
       "   number_courses  time_study   Marks\n",
       "0               3       4.508  19.202\n",
       "1               4       0.096   7.734\n",
       "2               4       3.133  13.811"
      ]
     },
     "execution_count": 4,
     "metadata": {},
     "output_type": "execute_result"
    }
   ],
   "source": [
    "#Data setinin ilk üç satısını getirmek için head() fonksiyonunu kullanıyorum...\n",
    "#Aşağıdaki data number_courses(alınan kursu), time_study(çalışma süresi) ve Bu özelliklere göre Marks(puanı) veriyor. \n",
    "\n",
    "df.head(3)"
   ]
  },
  {
   "cell_type": "code",
   "execution_count": 6,
   "metadata": {},
   "outputs": [
    {
     "name": "stdout",
     "output_type": "stream",
     "text": [
      "<class 'pandas.core.frame.DataFrame'>\n",
      "RangeIndex: 100 entries, 0 to 99\n",
      "Data columns (total 3 columns):\n",
      " #   Column          Non-Null Count  Dtype  \n",
      "---  ------          --------------  -----  \n",
      " 0   number_courses  100 non-null    int64  \n",
      " 1   time_study      100 non-null    float64\n",
      " 2   Marks           100 non-null    float64\n",
      "dtypes: float64(2), int64(1)\n",
      "memory usage: 2.5 KB\n"
     ]
    }
   ],
   "source": [
    "#data hakkında detay bilgi için örneğin veri tiplerinin ne olduğu, kaç satır olduğu gibi info() fonksiyonunu kullandım. \n",
    "df.info()"
   ]
  },
  {
   "cell_type": "code",
   "execution_count": 5,
   "metadata": {},
   "outputs": [],
   "source": [
    "#y=DateFrame içerisine tahmin etmek istediğimiz hedef niteliği(tahimde bulunmak istediğimiz özelliği) bağımlı değişkeni veriyoruz.\n",
    "#x=bağımsız değişkenler yer alacak. \n",
    "\n",
    "y=df[[\"Marks\"]] \n",
    "x=df[[\"number_courses\",\"time_study\"]]\n",
    "#"
   ]
  },
  {
   "cell_type": "code",
   "execution_count": null,
   "metadata": {},
   "outputs": [],
   "source": [
    "#Tahminde bulunacak olan regresyon modelini çağırıyorum ve \"l\" değişkenine aktarıyorum. \n",
    "l=LinearRegression"
   ]
  }
 ],
 "metadata": {
  "kernelspec": {
   "display_name": "Python 3",
   "language": "python",
   "name": "python3"
  },
  "language_info": {
   "codemirror_mode": {
    "name": "ipython",
    "version": 3
   },
   "file_extension": ".py",
   "mimetype": "text/x-python",
   "name": "python",
   "nbconvert_exporter": "python",
   "pygments_lexer": "ipython3",
   "version": "3.12.3"
  }
 },
 "nbformat": 4,
 "nbformat_minor": 2
}
