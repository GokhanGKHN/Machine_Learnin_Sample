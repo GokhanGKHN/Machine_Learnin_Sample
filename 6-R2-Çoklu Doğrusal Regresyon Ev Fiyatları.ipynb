{
 "cells": [
  {
   "cell_type": "markdown",
   "metadata": {},
   "source": [
    "## Çoklu Doğrusal Regresyon Nedir?\n",
    "\n",
    "Çoklu doğrusal regresyon, bir bağımlı değişkenin (`y`) birden fazla bağımsız değişken (`x1`, `x2`, `x3`, ...) tarafından açıklandığı istatistiksel bir modeldir. Bu model, bağımlı değişken ile birden fazla bağımsız değişken arasındaki ilişkiyi incelemek için kullanılır. Model şu şekilde ifade edilir:\n",
    "\n",
    "**𝑦 = 𝛽0 + 𝛽1𝑥1 + 𝛽2𝑥2 + 𝛽3𝑥3 + ... + 𝛽𝑛𝑥𝑛 + 𝜖**\n",
    "\n",
    "\n",
    "Burada:\n",
    "\n",
    "- `𝑦`: Bağımlı değişken\n",
    "- `𝑥1`, `𝑥2`, ..., `𝑥𝑛`: Bağımsız değişkenler\n",
    "- `𝛽0`: Sabit terim (intercept)\n",
    "- `𝛽1`, `𝛽2`, ..., `𝛽𝑛`: Bağımsız değişkenlerin katsayıları\n",
    "- `𝜖`: Hata terimi\n",
    "\n",
    "### Örnek\n",
    "\n",
    "Örneğin, bir evin satış fiyatını (`y`) tahmin etmek istediğimizi düşünelim. Bu fiyatın, evin alanı (`x1`), oda sayısı (`x2`) ve bulunduğu semtin ortalama gelir düzeyi (`x3`) gibi faktörlere bağlı olduğunu varsayalım.\n",
    "\n",
    "Modelimiz şu şekilde olabilir:\n",
    "**Fiyat = 𝛽0 + 𝛽1 ⋅ Alan + 𝛽2 ⋅ Oda Sayısı + 𝛽3 ⋅ Semt Geliri + 𝜖**\n",
    "\n",
    "\n",
    "Eğer aşağıdaki verilere sahipsek:\n",
    "\n",
    "| Ev Alanı (m²) | Oda Sayısı | Semt Geliri (TL) | Fiyat (TL) |\n",
    "|---------------|------------|------------------|------------|\n",
    "| 100           | 3          | 50000            | 400000     |\n",
    "| 150           | 4          | 60000            | 550000     |\n",
    "| 200           | 5          | 70000            | 700000     |\n",
    "| 120           | 3          | 55000            | 450000     |\n",
    "\n",
    "Bu verilerle, çoklu doğrusal regresyon kullanarak katsayıları (`𝛽0`, `𝛽1`, `𝛽2`, `𝛽3`) tahmin edebiliriz. Örneğin, modelimizi eğittiğimizde şu sonuçları elde ettiğimizi varsayalım:\n",
    "\n",
    "**Fiyat = 50000 + 2000 ⋅ Alan + 25000 ⋅ Oda Sayısı + 1.5 ⋅ Semt Geliri**\n",
    "\n",
    "\n",
    "Bu durumda, 160 m² alanı, 4 odası ve semt geliri 60000 TL olan bir evin fiyatını şu şekilde tahmin edebiliriz:\n",
    "\n",
    "Fiyat = 50000 + 2000 ⋅ 160 + 25000 ⋅ 4 + 1.5 ⋅ 60000\n",
    "= 50000 + 320000 + 100000 + 90000\n",
    "= 560000\n",
    "\n",
    "\n",
    "Bu model, bağımlı değişken olan evin fiyatının, bağımsız değişkenler olan alan, oda sayısı ve semt geliri ile nasıl ilişkili olduğunu gösterir.\n",
    "\n",
    "\n",
    "\n",
    "\n",
    "\n",
    "\n"
   ]
  },
  {
   "cell_type": "code",
   "execution_count": 1,
   "metadata": {},
   "outputs": [
    {
     "name": "stdout",
     "output_type": "stream",
     "text": [
      "Katsayılar (Beta):\n",
      "𝛽0 (Sabit): 393564.3059700127\n",
      "𝛽1 (Alan): 4950.4946613078355\n",
      "𝛽2 (Oda Sayısı): 495.05338692192817\n",
      "𝛽3 (Semt Geliri): -9.801978645231259\n",
      "\n",
      "Tahmin edilen fiyat: 599504.9466130786 TL\n"
     ]
    },
    {
     "name": "stderr",
     "output_type": "stream",
     "text": [
      "c:\\Users\\gokha\\AppData\\Local\\Programs\\Python\\Python312\\Lib\\site-packages\\sklearn\\base.py:493: UserWarning: X does not have valid feature names, but LinearRegression was fitted with feature names\n",
      "  warnings.warn(\n"
     ]
    }
   ],
   "source": [
    "# Gerekli kütüphaneleri içe aktarın\n",
    "import pandas as pd\n",
    "from sklearn.linear_model import LinearRegression\n",
    "\n",
    "# Örnek veri oluşturun\n",
    "data = {\n",
    "    'Alan': [100, 150, 200, 120],\n",
    "    'Oda_Sayısı': [3, 4, 5, 3],\n",
    "    'Semt_Geliri': [50000, 60000, 70000, 55000],\n",
    "    'Fiyat': [400000, 550000, 700000, 450000]\n",
    "}\n",
    "\n",
    "# Veri çerçevesi oluşturun\n",
    "df = pd.DataFrame(data)\n",
    "\n",
    "# Bağımsız değişkenler (X) ve bağımlı değişken (Y) olarak veriyi ayırın\n",
    "X = df[['Alan', 'Oda_Sayısı', 'Semt_Geliri']]\n",
    "y = df['Fiyat']\n",
    "\n",
    "# Lineer regresyon modelini oluşturun ve eğitin\n",
    "model = LinearRegression()\n",
    "model.fit(X, y)\n",
    "\n",
    "# Modelin katsayılarını ve sabitini yazdırın\n",
    "print(\"Katsayılar (Beta):\")\n",
    "print(\"𝛽0 (Sabit):\", model.intercept_)\n",
    "print(\"𝛽1 (Alan):\", model.coef_[0])\n",
    "print(\"𝛽2 (Oda Sayısı):\", model.coef_[1])\n",
    "print(\"𝛽3 (Semt Geliri):\", model.coef_[2])\n",
    "\n",
    "# Tahmin yapmak için örnek bir veri oluşturun\n",
    "ornek_veri = [[160, 4, 60000]]\n",
    "\n",
    "# Tahmin yapın\n",
    "tahmin = model.predict(ornek_veri)\n",
    "print(\"\\nTahmin edilen fiyat:\", tahmin[0], \"TL\")\n"
   ]
  },
  {
   "cell_type": "markdown",
   "metadata": {},
   "source": []
  }
 ],
 "metadata": {
  "kernelspec": {
   "display_name": "Python 3",
   "language": "python",
   "name": "python3"
  },
  "language_info": {
   "codemirror_mode": {
    "name": "ipython",
    "version": 3
   },
   "file_extension": ".py",
   "mimetype": "text/x-python",
   "name": "python",
   "nbconvert_exporter": "python",
   "pygments_lexer": "ipython3",
   "version": "3.12.3"
  }
 },
 "nbformat": 4,
 "nbformat_minor": 2
}
