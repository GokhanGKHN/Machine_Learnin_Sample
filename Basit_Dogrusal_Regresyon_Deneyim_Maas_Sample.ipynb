{
 "cells": [
  {
   "cell_type": "markdown",
   "metadata": {},
   "source": [
    "# Basit Doğrusal Regresyon\n",
    "\n",
    "Basit doğrusal regresyon, bir bağımsız değişkenin (genellikle \"x\" olarak temsil edilir) bir bağımlı değişkene (genellikle \"y\" olarak temsil edilir) olan etkisini modellemek için kullanılan istatistiksel bir tekniktir. Temel olarak, bu teknik, bağımsız değişkenin değerlerinin bağımlı değişken üzerinde nasıl bir etkisi olduğunu anlamak için kullanılır.\n",
    "\n",
    "Örneğin, bir şirketin reklam harcamalarının, satışlar üzerindeki etkisini anlamak istediğini varsayalım. Bu durumda, reklam harcamaları bağımsız değişken (x) olarak kabul edilirken, satışlar ise bağımlı değişken (y) olarak kabul edilir. Şirket, reklam harcamaları ile satışlar arasındaki ilişkiyi modellemek ve gelecekteki reklam stratejilerini planlamak için doğrusal regresyon analizi yapabilir.\n",
    "\n",
    "Basit doğrusal regresyon modeli, genellikle şu denklemle ifade edilir:\n",
    "\n",
    "**𝑦 = 𝛽0 + 𝛽1𝑥 + 𝜖**\n",
    "\n",
    "\n",
    "Burada:\n",
    "\n",
    "- 𝑦, bağımlı değişkendir (örneğimizde satışlar).\n",
    "- 𝑥, bağımsız değişkendir (örneğimizde reklam harcamaları).\n",
    "- 𝛽0, kesim noktasını temsil eden sabit bir terimdir.\n",
    "- 𝛽1, eğim veya katsayıdır ve bağımsız değişkenin bağımlı değişken üzerindeki etkisini gösterir.\n",
    "- 𝜖, hata terimidir; modelimizin gerçek dünya verilerine tam olarak uymadığı durumları temsil eder.\n",
    "\n",
    "\n",
    "Özetle, basit doğrusal regresyon, bir bağımsız değişkenin bir bağımlı değişken üzerindeki etkisini modellemek için kullanılan bir istatistiksel tekniktir.\n",
    "\n",
    "Sample: Bir şirketin çalışanlarının deneyimlerinin, maaşları üzerindeki etkisini inceleyelim.\n",
    "\n",
    "Örneğin, şirketin 10 çalışanı var ve her birinin deneyim süresi ile maaşı aşağıdaki gibidir:\n",
    "| Deneyim (Yıl) | Maaş (TL) |\n",
    "|---------------|-----------|\n",
    "| 1             | 3000      |\n",
    "| 2             | 3500      |\n",
    "| 3             | 4000      |\n",
    "| 4             | 4500      |\n",
    "| 5             | 5000      |\n",
    "| 6             | 5500      |\n",
    "| 7             | 6000      |\n",
    "| 8             | 6500      |\n",
    "| 9             | 7000      |\n",
    "| 10            | 7500      |\n",
    "\n",
    "Bu verilere dayanarak, deneyim süresinin maaş üzerindeki etkisini basit doğrusal regresyon kullanarak modelleyebiliriz.\n",
    "\n",
    "Bu verileri bir grafikte görselleştirerek başlayalım. Deneyim süresini x ekseni, maaşı y ekseni olarak alalım.\n",
    "\n",
    "\n",
    "\n",
    "\n",
    "\n",
    "\n",
    "\n"
   ]
  },
  {
   "cell_type": "markdown",
   "metadata": {},
   "source": []
  }
 ],
 "metadata": {
  "language_info": {
   "name": "python"
  }
 },
 "nbformat": 4,
 "nbformat_minor": 2
}
