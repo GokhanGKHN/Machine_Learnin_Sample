{
 "cells": [
  {
   "cell_type": "markdown",
   "metadata": {},
   "source": [
    "# Basit Doğrusal Regresyon\n",
    "\n",
    "Basit doğrusal regresyon, bir bağımsız değişkenin (genellikle \"x\" olarak temsil edilir) bir bağımlı değişkene (genellikle \"y\" olarak temsil edilir) olan etkisini modellemek için kullanılan istatistiksel bir tekniktir. Temel olarak, bu teknik, bağımsız değişkenin değerlerinin bağımlı değişken üzerinde nasıl bir etkisi olduğunu anlamak için kullanılır.\n",
    "\n",
    "Örneğin, bir şirketin reklam harcamalarının, satışlar üzerindeki etkisini anlamak istediğini varsayalım. Bu durumda, reklam harcamaları bağımsız değişken (x) olarak kabul edilirken, satışlar ise bağımlı değişken (y) olarak kabul edilir. Şirket, reklam harcamaları ile satışlar arasındaki ilişkiyi modellemek ve gelecekteki reklam stratejilerini planlamak için doğrusal regresyon analizi yapabilir.\n",
    "\n",
    "Basit doğrusal regresyon modeli, genellikle şu denklemle ifade edilir:\n",
    "\n",
    "**𝑦 = 𝛽0 + 𝛽1𝑥 + 𝜖**\n",
    "\n",
    "\n",
    "Burada:\n",
    "\n",
    "- 𝑦, bağımlı değişkendir (örneğimizde satışlar).\n",
    "- 𝑥, bağımsız değişkendir (örneğimizde reklam harcamaları).\n",
    "- 𝛽0, kesim noktasını temsil eden sabit bir terimdir.\n",
    "- 𝛽1, eğim veya katsayıdır ve bağımsız değişkenin bağımlı değişken üzerindeki etkisini gösterir.\n",
    "- 𝜖, hata terimidir; modelimizin gerçek dünya verilerine tam olarak uymadığı durumları temsil eder.\n",
    "\n",
    "\n",
    "Özetle, basit doğrusal regresyon, bir bağımsız değişkenin bir bağımlı değişken üzerindeki etkisini modellemek için kullanılan bir istatistiksel tekniktir.\n",
    "\n",
    "Sample: Bir şirketin çalışanlarının deneyimlerinin, maaşları üzerindeki etkisini inceleyelim.\n",
    "\n",
    "Örneğin, şirketin 10 çalışanı var ve her birinin deneyim süresi ile maaşı aşağıdaki gibidir:\n",
    "| Deneyim (Yıl) | Maaş (TL) |\n",
    "|---------------|-----------|\n",
    "| 1             | 3000      |\n",
    "| 2             | 3500      |\n",
    "| 3             | 4000      |\n",
    "| 4             | 4500      |\n",
    "| 5             | 5000      |\n",
    "| 6             | 5500      |\n",
    "| 7             | 6000      |\n",
    "| 8             | 6500      |\n",
    "| 9             | 7000      |\n",
    "| 10            | 7500      |\n",
    "\n",
    "Bu verilere dayanarak, deneyim süresinin maaş üzerindeki etkisini basit doğrusal regresyon kullanarak modelleyebiliriz.\n",
    "\n",
    "Bu verileri bir grafikte görselleştirerek başlayalım. Deneyim süresini x ekseni, maaşı y ekseni olarak alalım.\n",
    "\n",
    "\n",
    "\n",
    "\n",
    "\n",
    "\n",
    "\n"
   ]
  },
  {
   "cell_type": "markdown",
   "metadata": {},
   "source": []
  },
  {
   "cell_type": "code",
   "execution_count": 15,
   "metadata": {},
   "outputs": [
    {
     "data": {
      "image/png": "[encoded data removed]",
      "text/plain": [
       "<Figure size 640x480 with 1 Axes>"
      ]
     },
     "metadata": {},
     "output_type": "display_data"
    }
   ],
   "source": [
    "import matplotlib.pyplot as plt\n",
    "from sklearn.linear_model import LinearRegression\n",
    "\n",
    "\n",
    "deneyim=[[1],[2],[3],[4],[5],[6],[7],[8],[9],[10]]\n",
    "maas=[3000,5000,4000,4500,5000,5500,6000,6500,7000,7500]\n",
    "\n",
    "plt.scatter(deneyim, maas)\n",
    "plt.xlabel('Deneyim (Yıl)')\n",
    "plt.ylabel('Maaş (TL)')\n",
    "plt.title('Deneyim Süresi ile Maaş Arasındaki İlişki')\n",
    "plt.show()\n",
    "\n"
   ]
  },
  {
   "cell_type": "markdown",
   "metadata": {},
   "source": [
    "Grafikte, deneyim süresi ile maaş arasında bir artış eğilimi olduğunu görebiliriz. Şimdi, bu ilişkiyi doğrusal bir modelle ifade edelim:\n",
    "maas=β0+β1⋅deneyim+ϵ\n",
    "\n",
    "Bu modeli uygulayarak 𝛽0 ve 𝛽1parametrelerini tahmin edebiliriz. Ardından, elde ettiğimiz modeli kullanarak bir çalışanın deneyim süresi verildiğinde maaşını tahmin edebiliriz.\n",
    "\n",
    "Tahmini yapmak için öncelikle modelimizi oluşturmalıyız. Modelimiz şu formülle ifade ediliyor:\n",
    "maas=β0+β1⋅deneyim+ϵ\n",
    "\n",
    "Burada 𝛽0 ve 𝛽1  parametrelerini tahmin etmemiz gerekiyor. Bu parametrelerin tahmin edilmesi genellikle en küçük kareler yöntemi kullanılarak yapılır. \n",
    "Bu yöntem, gözlemlenen verilere en iyi uyan doğruyu bulmaya çalışır.\n",
    "\n",
    "Python'da bu işlemi yapmak için çeşitli kütüphaneler mevcuttur. Örneğin, scikit-learn veya statsmodels kütüphanelerini kullanabiliriz. İşte scikit-learn kütüphanesiyle bir örnek:\n",
    "\n",
    "\n",
    "\n"
   ]
  },
  {
   "cell_type": "code",
   "execution_count": 16,
   "metadata": {},
   "outputs": [
    {
     "name": "stdout",
     "output_type": "stream",
     "text": [
      "Kesim noktası (beta_0): 2999.9999999999995\n",
      "Eğim (beta_1): 436.36363636363643\n"
     ]
    }
   ],
   "source": [
    "# Doğrusal regresyon modelini oluşturalım\n",
    "model = LinearRegression()\n",
    "# Modeli verilere uyarlama (eğitme)\n",
    "model.fit(deneyim, maas)\n",
    "# Elde ettiğimiz parametreleri yazdıralım\n",
    "print('Kesim noktası (beta_0):', model.intercept_)\n",
    "print('Eğim (beta_1):', model.coef_[0])\n",
    "\n"
   ]
  },
  {
   "cell_type": "markdown",
   "metadata": {},
   "source": [
    "Artık modelimiz eğitildi ve 𝛽0 ve 𝛽1  parametreleri tahmin edildi. Şimdi, bu parametreleri kullanarak bir tahmin yapabiliriz.\n",
    "Örneğin, 8 yıl deneyimi olan bir çalışanın maaşını tahmin etmek için:"
   ]
  },
  {
   "cell_type": "code",
   "execution_count": 17,
   "metadata": {},
   "outputs": [
    {
     "name": "stdout",
     "output_type": "stream",
     "text": [
      "Tahmini maaş: 6490.909090909091\n"
     ]
    }
   ],
   "source": [
    "# 8 yıl deneyimi olan bir çalışanın maaşını tahmin etmek\n",
    "deneyim_yil = [[8]]\n",
    "tahmini_maas = model.predict(deneyim_yil)\n",
    "print('Tahmini maaş:', tahmini_maas[0])\n",
    "\n"
   ]
  },
  {
   "cell_type": "markdown",
   "metadata": {},
   "source": [
    "Bu şekilde, modelimizi kullanarak belirli bir deneyim seviyesine sahip bir çalışanın maaşını tahmin edebiliriz.\n",
    "\n",
    "\n",
    "\n"
   ]
  },
  {
   "cell_type": "markdown",
   "metadata": {},
   "source": []
  }
 ],
 "metadata": {
  "kernelspec": {
   "display_name": "Python 3",
   "language": "python",
   "name": "python3"
  },
  "language_info": {
   "codemirror_mode": {
    "name": "ipython",
    "version": 3
   },
   "file_extension": ".py",
   "mimetype": "text/x-python",
   "name": "python",
   "nbconvert_exporter": "python",
   "pygments_lexer": "ipython3",
   "version": "3.12.3"
  }
 },
 "nbformat": 4,
 "nbformat_minor": 2
}
